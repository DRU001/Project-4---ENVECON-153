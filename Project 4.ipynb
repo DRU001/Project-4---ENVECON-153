{
 "cells": [
  {
   "cell_type": "code",
   "execution_count": 14,
   "metadata": {},
   "outputs": [
    {
     "name": "stdout",
     "output_type": "stream",
     "text": [
      "Requirement already satisfied: wbdata in /anaconda3/lib/python3.6/site-packages (0.2.7)\n",
      "Requirement already satisfied: decorator in /anaconda3/lib/python3.6/site-packages (from wbdata) (4.3.0)\n",
      "Requirement already satisfied: CFEDemands in /anaconda3/lib/python3.6/site-packages (0.1.6.6)\n",
      "Requirement already satisfied: pint in /anaconda3/lib/python3.6/site-packages (0.9)\n",
      "Requirement already satisfied: requests in /anaconda3/lib/python3.6/site-packages (2.18.4)\n",
      "Requirement already satisfied: chardet<3.1.0,>=3.0.2 in /anaconda3/lib/python3.6/site-packages (from requests) (3.0.4)\n",
      "Requirement already satisfied: idna<2.7,>=2.5 in /anaconda3/lib/python3.6/site-packages (from requests) (2.6)\n",
      "Requirement already satisfied: urllib3<1.23,>=1.21.1 in /anaconda3/lib/python3.6/site-packages (from requests) (1.22)\n",
      "Requirement already satisfied: certifi>=2017.4.17 in /anaconda3/lib/python3.6/site-packages (from requests) (2018.4.16)\n",
      "Requirement already satisfied: scipy in /anaconda3/lib/python3.6/site-packages (1.1.0)\n"
     ]
    }
   ],
   "source": [
    "## import necessary packages\n",
    "!pip install wbdata\n",
    "!pip install CFEDemands\n",
    "!pip install pint\n",
    "!pip install requests\n",
    "!pip install scipy\n",
    "\n",
    "import ndb\n",
    "import pandas as pd\n",
    "import warnings\n",
    "from  scipy.optimize import linprog as lp\n",
    "import numpy as np\n",
    "import wbdata \n",
    "import warnings\n",
    "warnings.filterwarnings('ignore')"
   ]
  },
  {
   "cell_type": "code",
   "execution_count": 15,
   "metadata": {},
   "outputs": [
    {
     "name": "stdout",
     "output_type": "stream",
     "text": [
      "Requirement already up-to-date: CFEDemands in /anaconda3/lib/python3.6/site-packages (0.1.6.6)\n",
      "Requirement already satisfied: xarray in /anaconda3/lib/python3.6/site-packages (0.12.1)\n",
      "Requirement already satisfied: numpy>=1.12 in /anaconda3/lib/python3.6/site-packages (from xarray) (1.14.3)\n",
      "Requirement already satisfied: pandas>=0.19.2 in /anaconda3/lib/python3.6/site-packages (from xarray) (0.23.0)\n",
      "Requirement already satisfied: python-dateutil>=2.5.0 in /anaconda3/lib/python3.6/site-packages (from pandas>=0.19.2->xarray) (2.7.3)\n",
      "Requirement already satisfied: pytz>=2011k in /anaconda3/lib/python3.6/site-packages (from pandas>=0.19.2->xarray) (2018.4)\n",
      "Requirement already satisfied: six>=1.5 in /anaconda3/lib/python3.6/site-packages (from python-dateutil>=2.5.0->pandas>=0.19.2->xarray) (1.11.0)\n"
     ]
    }
   ],
   "source": [
    "!pip install CFEDemands --upgrade\n",
    "!pip install xarray"
   ]
  },
  {
   "cell_type": "markdown",
   "metadata": {},
   "source": [
    "## Nutritional Information"
   ]
  },
  {
   "cell_type": "markdown",
   "metadata": {},
   "source": [
    "Utilized the ndb data set as well as Instacart to find prices nation-wide for the prices of 140+ different foods. These foods were gathered in the USDA food survey which analyzed household grocery aquisitions for varying lengths of time. The food was classified using the USDA 4-digit coding which is how we got our different items for pricing. Nutritional values were mapped to each food good as seen in chart below."
   ]
  },
  {
   "cell_type": "code",
   "execution_count": 17,
   "metadata": {},
   "outputs": [],
   "source": [
    "import ndb\n",
    "import pandas as pd\n",
    "import warnings\n",
    "\n",
    "DFs = []\n",
    "#for csv in CSVs:  # Uncomment to use a list of csv files as inputs\n",
    "#  DFs.append(pd.read_csv(csv,dtype=str))\n",
    "\n",
    "DFs.append(pd.read_csv(\"USFoodPrices.csv\"))\n",
    "\n",
    "df = pd.concat(DFs,ignore_index=True,sort=False)\n",
    "# Some columns which ought to be numeric are actually str; convert them\n",
    "df['Price'] = df['Price'].astype(float)\n",
    "df['Quantity'] = df['Quantity'].astype(float)\n",
    "df[\"Units\"] = df[\"Units\"].astype(str)\n",
    "df[\"Value\"] = df[\"Value\"].dropna().astype(int).astype(str)\n",
    "df[\"NDB\"][df['Food'].str.contains(\"Milk shakes and other dairy drinks\")] = str(\"01110\")\n",
    "df[\"NDB\"] = df[\"NDB\"].dropna()\n",
    "\n",
    "prices_df = df"
   ]
  },
  {
   "cell_type": "code",
   "execution_count": 1058,
   "metadata": {},
   "outputs": [],
   "source": [
    "values = df[\"Value\"].tolist()\n",
    "names = df[\"Food\"].tolist()\n",
    "value_name_dict = dict(zip(values,names))"
   ]
  },
  {
   "cell_type": "code",
   "execution_count": 1059,
   "metadata": {},
   "outputs": [
    {
     "data": {
      "text/html": [
       "<div>\n",
       "<style scoped>\n",
       "    .dataframe tbody tr th:only-of-type {\n",
       "        vertical-align: middle;\n",
       "    }\n",
       "\n",
       "    .dataframe tbody tr th {\n",
       "        vertical-align: top;\n",
       "    }\n",
       "\n",
       "    .dataframe thead th {\n",
       "        text-align: right;\n",
       "    }\n",
       "</style>\n",
       "<table border=\"1\" class=\"dataframe\">\n",
       "  <thead>\n",
       "    <tr style=\"text-align: right;\">\n",
       "      <th></th>\n",
       "      <th>Apple juice</th>\n",
       "      <th>Apples</th>\n",
       "      <th>Bacon</th>\n",
       "      <th>Bagels and English muffins</th>\n",
       "      <th>Bananas</th>\n",
       "      <th>Beans, peas, legumes</th>\n",
       "      <th>Beef, excludes ground</th>\n",
       "      <th>Beer</th>\n",
       "      <th>Berries</th>\n",
       "      <th>Biscuits, muffins, quick breads</th>\n",
       "      <th>...</th>\n",
       "      <th>Tortillas</th>\n",
       "      <th>Turkey, duck, other poultry</th>\n",
       "      <th>Turnovers and other grain-based items</th>\n",
       "      <th>Vegetable juice</th>\n",
       "      <th>Vegetable mixed dishes</th>\n",
       "      <th>White potatoes, baked or boiled</th>\n",
       "      <th>Wine</th>\n",
       "      <th>Yeast breads</th>\n",
       "      <th>Yogurt, low-fat and nonfat</th>\n",
       "      <th>Yogurt, whole and reduced fat</th>\n",
       "    </tr>\n",
       "  </thead>\n",
       "  <tbody>\n",
       "    <tr>\n",
       "      <th>Caffeine</th>\n",
       "      <td>NaN</td>\n",
       "      <td>NaN</td>\n",
       "      <td>0.000</td>\n",
       "      <td>NaN</td>\n",
       "      <td>NaN</td>\n",
       "      <td>NaN</td>\n",
       "      <td>NaN</td>\n",
       "      <td>NaN</td>\n",
       "      <td>NaN</td>\n",
       "      <td>NaN</td>\n",
       "      <td>...</td>\n",
       "      <td>NaN</td>\n",
       "      <td>NaN</td>\n",
       "      <td>NaN</td>\n",
       "      <td>NaN</td>\n",
       "      <td>NaN</td>\n",
       "      <td>NaN</td>\n",
       "      <td>0.0</td>\n",
       "      <td>NaN</td>\n",
       "      <td>NaN</td>\n",
       "      <td>NaN</td>\n",
       "    </tr>\n",
       "    <tr>\n",
       "      <th>Calcium, Ca</th>\n",
       "      <td>17.00</td>\n",
       "      <td>6.00</td>\n",
       "      <td>80.000</td>\n",
       "      <td>21.00</td>\n",
       "      <td>39.0</td>\n",
       "      <td>17.00</td>\n",
       "      <td>NaN</td>\n",
       "      <td>4.00</td>\n",
       "      <td>14.00</td>\n",
       "      <td>97.00</td>\n",
       "      <td>...</td>\n",
       "      <td>26.00</td>\n",
       "      <td>0.00</td>\n",
       "      <td>0.0</td>\n",
       "      <td>25.00</td>\n",
       "      <td>70.00</td>\n",
       "      <td>9.00</td>\n",
       "      <td>10.0</td>\n",
       "      <td>0.00</td>\n",
       "      <td>100.00</td>\n",
       "      <td>118.00</td>\n",
       "    </tr>\n",
       "    <tr>\n",
       "      <th>Carbohydrate, by difference</th>\n",
       "      <td>46.67</td>\n",
       "      <td>14.29</td>\n",
       "      <td>1.890</td>\n",
       "      <td>53.68</td>\n",
       "      <td>67.5</td>\n",
       "      <td>3.33</td>\n",
       "      <td>3.57</td>\n",
       "      <td>2.97</td>\n",
       "      <td>12.14</td>\n",
       "      <td>44.66</td>\n",
       "      <td>...</td>\n",
       "      <td>46.51</td>\n",
       "      <td>3.57</td>\n",
       "      <td>75.0</td>\n",
       "      <td>5.83</td>\n",
       "      <td>26.29</td>\n",
       "      <td>15.54</td>\n",
       "      <td>3.8</td>\n",
       "      <td>42.86</td>\n",
       "      <td>9.33</td>\n",
       "      <td>14.12</td>\n",
       "    </tr>\n",
       "    <tr>\n",
       "      <th>Cholesterol</th>\n",
       "      <td>0.00</td>\n",
       "      <td>0.00</td>\n",
       "      <td>86.000</td>\n",
       "      <td>0.00</td>\n",
       "      <td>0.0</td>\n",
       "      <td>0.00</td>\n",
       "      <td>58.00</td>\n",
       "      <td>0.00</td>\n",
       "      <td>0.00</td>\n",
       "      <td>0.00</td>\n",
       "      <td>...</td>\n",
       "      <td>0.00</td>\n",
       "      <td>36.00</td>\n",
       "      <td>0.0</td>\n",
       "      <td>NaN</td>\n",
       "      <td>0.00</td>\n",
       "      <td>0.00</td>\n",
       "      <td>0.0</td>\n",
       "      <td>0.00</td>\n",
       "      <td>7.00</td>\n",
       "      <td>12.00</td>\n",
       "    </tr>\n",
       "    <tr>\n",
       "      <th>Energy</th>\n",
       "      <td>183.00</td>\n",
       "      <td>52.00</td>\n",
       "      <td>226.000</td>\n",
       "      <td>263.00</td>\n",
       "      <td>425.0</td>\n",
       "      <td>17.00</td>\n",
       "      <td>196.00</td>\n",
       "      <td>41.00</td>\n",
       "      <td>50.00</td>\n",
       "      <td>223.00</td>\n",
       "      <td>...</td>\n",
       "      <td>279.00</td>\n",
       "      <td>107.00</td>\n",
       "      <td>375.0</td>\n",
       "      <td>29.00</td>\n",
       "      <td>188.00</td>\n",
       "      <td>68.00</td>\n",
       "      <td>83.0</td>\n",
       "      <td>357.00</td>\n",
       "      <td>67.00</td>\n",
       "      <td>106.00</td>\n",
       "    </tr>\n",
       "    <tr>\n",
       "      <th>Fatty acids, total monounsaturated</th>\n",
       "      <td>NaN</td>\n",
       "      <td>NaN</td>\n",
       "      <td>6.223</td>\n",
       "      <td>NaN</td>\n",
       "      <td>NaN</td>\n",
       "      <td>NaN</td>\n",
       "      <td>NaN</td>\n",
       "      <td>NaN</td>\n",
       "      <td>NaN</td>\n",
       "      <td>NaN</td>\n",
       "      <td>...</td>\n",
       "      <td>3.49</td>\n",
       "      <td>NaN</td>\n",
       "      <td>NaN</td>\n",
       "      <td>NaN</td>\n",
       "      <td>NaN</td>\n",
       "      <td>NaN</td>\n",
       "      <td>0.0</td>\n",
       "      <td>5.36</td>\n",
       "      <td>NaN</td>\n",
       "      <td>NaN</td>\n",
       "    </tr>\n",
       "    <tr>\n",
       "      <th>Fatty acids, total polyunsaturated</th>\n",
       "      <td>NaN</td>\n",
       "      <td>NaN</td>\n",
       "      <td>4.699</td>\n",
       "      <td>NaN</td>\n",
       "      <td>NaN</td>\n",
       "      <td>NaN</td>\n",
       "      <td>NaN</td>\n",
       "      <td>NaN</td>\n",
       "      <td>NaN</td>\n",
       "      <td>NaN</td>\n",
       "      <td>...</td>\n",
       "      <td>1.16</td>\n",
       "      <td>NaN</td>\n",
       "      <td>NaN</td>\n",
       "      <td>NaN</td>\n",
       "      <td>NaN</td>\n",
       "      <td>NaN</td>\n",
       "      <td>0.0</td>\n",
       "      <td>0.00</td>\n",
       "      <td>NaN</td>\n",
       "      <td>NaN</td>\n",
       "    </tr>\n",
       "    <tr>\n",
       "      <th>Fatty acids, total saturated</th>\n",
       "      <td>0.00</td>\n",
       "      <td>0.00</td>\n",
       "      <td>4.520</td>\n",
       "      <td>0.00</td>\n",
       "      <td>12.5</td>\n",
       "      <td>0.00</td>\n",
       "      <td>4.46</td>\n",
       "      <td>NaN</td>\n",
       "      <td>0.00</td>\n",
       "      <td>0.00</td>\n",
       "      <td>...</td>\n",
       "      <td>0.00</td>\n",
       "      <td>0.00</td>\n",
       "      <td>0.0</td>\n",
       "      <td>NaN</td>\n",
       "      <td>0.70</td>\n",
       "      <td>0.00</td>\n",
       "      <td>0.0</td>\n",
       "      <td>7.14</td>\n",
       "      <td>NaN</td>\n",
       "      <td>1.76</td>\n",
       "    </tr>\n",
       "    <tr>\n",
       "      <th>Fatty acids, total trans</th>\n",
       "      <td>0.00</td>\n",
       "      <td>0.00</td>\n",
       "      <td>0.184</td>\n",
       "      <td>0.00</td>\n",
       "      <td>0.0</td>\n",
       "      <td>0.00</td>\n",
       "      <td>NaN</td>\n",
       "      <td>0.00</td>\n",
       "      <td>0.00</td>\n",
       "      <td>0.00</td>\n",
       "      <td>...</td>\n",
       "      <td>0.00</td>\n",
       "      <td>0.00</td>\n",
       "      <td>0.0</td>\n",
       "      <td>NaN</td>\n",
       "      <td>0.00</td>\n",
       "      <td>0.00</td>\n",
       "      <td>NaN</td>\n",
       "      <td>0.00</td>\n",
       "      <td>NaN</td>\n",
       "      <td>0.00</td>\n",
       "    </tr>\n",
       "    <tr>\n",
       "      <th>Fiber, total dietary</th>\n",
       "      <td>0.00</td>\n",
       "      <td>3.20</td>\n",
       "      <td>NaN</td>\n",
       "      <td>3.20</td>\n",
       "      <td>10.0</td>\n",
       "      <td>1.70</td>\n",
       "      <td>NaN</td>\n",
       "      <td>0.00</td>\n",
       "      <td>3.60</td>\n",
       "      <td>1.00</td>\n",
       "      <td>...</td>\n",
       "      <td>7.00</td>\n",
       "      <td>0.00</td>\n",
       "      <td>0.0</td>\n",
       "      <td>NaN</td>\n",
       "      <td>2.80</td>\n",
       "      <td>2.70</td>\n",
       "      <td>0.0</td>\n",
       "      <td>0.00</td>\n",
       "      <td>0.70</td>\n",
       "      <td>0.00</td>\n",
       "    </tr>\n",
       "  </tbody>\n",
       "</table>\n",
       "<p>10 rows × 133 columns</p>\n",
       "</div>"
      ],
      "text/plain": [
       "                                    Apple juice  Apples    Bacon  \\\n",
       "Caffeine                                    NaN     NaN    0.000   \n",
       "Calcium, Ca                               17.00    6.00   80.000   \n",
       "Carbohydrate, by difference               46.67   14.29    1.890   \n",
       "Cholesterol                                0.00    0.00   86.000   \n",
       "Energy                                   183.00   52.00  226.000   \n",
       "Fatty acids, total monounsaturated          NaN     NaN    6.223   \n",
       "Fatty acids, total polyunsaturated          NaN     NaN    4.699   \n",
       "Fatty acids, total saturated               0.00    0.00    4.520   \n",
       "Fatty acids, total trans                   0.00    0.00    0.184   \n",
       "Fiber, total dietary                       0.00    3.20      NaN   \n",
       "\n",
       "                                    Bagels and English muffins  Bananas  \\\n",
       "Caffeine                                                   NaN      NaN   \n",
       "Calcium, Ca                                              21.00     39.0   \n",
       "Carbohydrate, by difference                              53.68     67.5   \n",
       "Cholesterol                                               0.00      0.0   \n",
       "Energy                                                  263.00    425.0   \n",
       "Fatty acids, total monounsaturated                         NaN      NaN   \n",
       "Fatty acids, total polyunsaturated                         NaN      NaN   \n",
       "Fatty acids, total saturated                              0.00     12.5   \n",
       "Fatty acids, total trans                                  0.00      0.0   \n",
       "Fiber, total dietary                                      3.20     10.0   \n",
       "\n",
       "                                    Beans, peas, legumes  \\\n",
       "Caffeine                                             NaN   \n",
       "Calcium, Ca                                        17.00   \n",
       "Carbohydrate, by difference                         3.33   \n",
       "Cholesterol                                         0.00   \n",
       "Energy                                             17.00   \n",
       "Fatty acids, total monounsaturated                   NaN   \n",
       "Fatty acids, total polyunsaturated                   NaN   \n",
       "Fatty acids, total saturated                        0.00   \n",
       "Fatty acids, total trans                            0.00   \n",
       "Fiber, total dietary                                1.70   \n",
       "\n",
       "                                    Beef, excludes ground   Beer  Berries  \\\n",
       "Caffeine                                              NaN    NaN      NaN   \n",
       "Calcium, Ca                                           NaN   4.00    14.00   \n",
       "Carbohydrate, by difference                          3.57   2.97    12.14   \n",
       "Cholesterol                                         58.00   0.00     0.00   \n",
       "Energy                                             196.00  41.00    50.00   \n",
       "Fatty acids, total monounsaturated                    NaN    NaN      NaN   \n",
       "Fatty acids, total polyunsaturated                    NaN    NaN      NaN   \n",
       "Fatty acids, total saturated                         4.46    NaN     0.00   \n",
       "Fatty acids, total trans                              NaN   0.00     0.00   \n",
       "Fiber, total dietary                                  NaN   0.00     3.60   \n",
       "\n",
       "                                    Biscuits, muffins, quick breads  \\\n",
       "Caffeine                                                        NaN   \n",
       "Calcium, Ca                                                   97.00   \n",
       "Carbohydrate, by difference                                   44.66   \n",
       "Cholesterol                                                    0.00   \n",
       "Energy                                                       223.00   \n",
       "Fatty acids, total monounsaturated                              NaN   \n",
       "Fatty acids, total polyunsaturated                              NaN   \n",
       "Fatty acids, total saturated                                   0.00   \n",
       "Fatty acids, total trans                                       0.00   \n",
       "Fiber, total dietary                                           1.00   \n",
       "\n",
       "                                                ...                Tortillas  \\\n",
       "Caffeine                                        ...                      NaN   \n",
       "Calcium, Ca                                     ...                    26.00   \n",
       "Carbohydrate, by difference                     ...                    46.51   \n",
       "Cholesterol                                     ...                     0.00   \n",
       "Energy                                          ...                   279.00   \n",
       "Fatty acids, total monounsaturated              ...                     3.49   \n",
       "Fatty acids, total polyunsaturated              ...                     1.16   \n",
       "Fatty acids, total saturated                    ...                     0.00   \n",
       "Fatty acids, total trans                        ...                     0.00   \n",
       "Fiber, total dietary                            ...                     7.00   \n",
       "\n",
       "                                    Turkey, duck, other poultry  \\\n",
       "Caffeine                                                    NaN   \n",
       "Calcium, Ca                                                0.00   \n",
       "Carbohydrate, by difference                                3.57   \n",
       "Cholesterol                                               36.00   \n",
       "Energy                                                   107.00   \n",
       "Fatty acids, total monounsaturated                          NaN   \n",
       "Fatty acids, total polyunsaturated                          NaN   \n",
       "Fatty acids, total saturated                               0.00   \n",
       "Fatty acids, total trans                                   0.00   \n",
       "Fiber, total dietary                                       0.00   \n",
       "\n",
       "                                    Turnovers and other grain-based items  \\\n",
       "Caffeine                                                              NaN   \n",
       "Calcium, Ca                                                           0.0   \n",
       "Carbohydrate, by difference                                          75.0   \n",
       "Cholesterol                                                           0.0   \n",
       "Energy                                                              375.0   \n",
       "Fatty acids, total monounsaturated                                    NaN   \n",
       "Fatty acids, total polyunsaturated                                    NaN   \n",
       "Fatty acids, total saturated                                          0.0   \n",
       "Fatty acids, total trans                                              0.0   \n",
       "Fiber, total dietary                                                  0.0   \n",
       "\n",
       "                                    Vegetable juice  Vegetable mixed dishes  \\\n",
       "Caffeine                                        NaN                     NaN   \n",
       "Calcium, Ca                                   25.00                   70.00   \n",
       "Carbohydrate, by difference                    5.83                   26.29   \n",
       "Cholesterol                                     NaN                    0.00   \n",
       "Energy                                        29.00                  188.00   \n",
       "Fatty acids, total monounsaturated              NaN                     NaN   \n",
       "Fatty acids, total polyunsaturated              NaN                     NaN   \n",
       "Fatty acids, total saturated                    NaN                    0.70   \n",
       "Fatty acids, total trans                        NaN                    0.00   \n",
       "Fiber, total dietary                            NaN                    2.80   \n",
       "\n",
       "                                    White potatoes, baked or boiled  Wine  \\\n",
       "Caffeine                                                        NaN   0.0   \n",
       "Calcium, Ca                                                    9.00  10.0   \n",
       "Carbohydrate, by difference                                   15.54   3.8   \n",
       "Cholesterol                                                    0.00   0.0   \n",
       "Energy                                                        68.00  83.0   \n",
       "Fatty acids, total monounsaturated                              NaN   0.0   \n",
       "Fatty acids, total polyunsaturated                              NaN   0.0   \n",
       "Fatty acids, total saturated                                   0.00   0.0   \n",
       "Fatty acids, total trans                                       0.00   NaN   \n",
       "Fiber, total dietary                                           2.70   0.0   \n",
       "\n",
       "                                    Yeast breads  Yogurt, low-fat and nonfat  \\\n",
       "Caffeine                                     NaN                         NaN   \n",
       "Calcium, Ca                                 0.00                      100.00   \n",
       "Carbohydrate, by difference                42.86                        9.33   \n",
       "Cholesterol                                 0.00                        7.00   \n",
       "Energy                                    357.00                       67.00   \n",
       "Fatty acids, total monounsaturated          5.36                         NaN   \n",
       "Fatty acids, total polyunsaturated          0.00                         NaN   \n",
       "Fatty acids, total saturated                7.14                         NaN   \n",
       "Fatty acids, total trans                    0.00                         NaN   \n",
       "Fiber, total dietary                        0.00                        0.70   \n",
       "\n",
       "                                    Yogurt, whole and reduced fat  \n",
       "Caffeine                                                      NaN  \n",
       "Calcium, Ca                                                118.00  \n",
       "Carbohydrate, by difference                                 14.12  \n",
       "Cholesterol                                                 12.00  \n",
       "Energy                                                     106.00  \n",
       "Fatty acids, total monounsaturated                            NaN  \n",
       "Fatty acids, total polyunsaturated                            NaN  \n",
       "Fatty acids, total saturated                                 1.76  \n",
       "Fatty acids, total trans                                     0.00  \n",
       "Fiber, total dietary                                         0.00  \n",
       "\n",
       "[10 rows x 133 columns]"
      ]
     },
     "execution_count": 1059,
     "metadata": {},
     "output_type": "execute_result"
    }
   ],
   "source": [
    "user = \"atwater\"\n",
    "apikey = {'atwater':\"ekh9KVmwQxokFmje0yDKJsSdG5PCuxWpXphJMEB3\"}\n",
    "age_list = [\"C 1-3\", \"F 4-8\", \"M 4-8\", \"F 9-13\", \"M 9-13\", \"F 14-18\", \"M 14-18\", \"F 19-30\", \"M 19-30\",\\\n",
    "            \"F 31-50\", \"M 31-50\", \"F 51+\", \"M 51+\"]\n",
    "#http://www.censusscope.org/us/chart_age.html\n",
    "age_breakdown = [6.82, 3.56, 3.74, 3.56, 3.74, 3.49, 3.69, 6.71, 6.92,\\\n",
    "                15.32, 15.15, 15.01, 12.32]\n",
    "    \n",
    "    \n",
    "import ndb\n",
    "D = {}\n",
    "\n",
    "for food in  df.Food.tolist():\n",
    "    try:\n",
    "        NDB = df.loc[df.Food==food,:].NDB\n",
    "        D[food] = ndb.ndb_report(apikey[user],NDB).Quantity\n",
    "    except AttributeError: \n",
    "        warnings.warn(\"Couldn't find NDB Code %s for food %s.\" % (food,NDB))\n",
    "        \n",
    "\n",
    "D = pd.DataFrame(D,dtype=float)\n",
    "\n",
    "D = D.reindex(sorted(D.columns), axis=1)\n",
    "\n",
    "D.head(10)"
   ]
  },
  {
   "cell_type": "markdown",
   "metadata": {},
   "source": [
    "This deals with cleaning the charts."
   ]
  },
  {
   "cell_type": "code",
   "execution_count": 1060,
   "metadata": {},
   "outputs": [],
   "source": [
    "# Convert food quantities to NDB units\n",
    "df['NDB Quantity'] = df[['Quantity','Units']].T.apply(lambda x : ndb.ndb_units(x['Quantity'],x['Units']))\n",
    "\n",
    "# Now may want to filter df by time or place--need to get a unique set of food names.\n",
    "df['NDB Price'] = df['Price']/df['NDB Quantity']\n",
    "\n",
    "df.dropna(how='any') # Drop food with any missing data\n",
    "\n",
    "# To use minimum price observed\n",
    "Prices = df.groupby('Food')['NDB Price'].min()"
   ]
  },
  {
   "cell_type": "markdown",
   "metadata": {},
   "source": [
    "## Regional Household Expenditures"
   ]
  },
  {
   "cell_type": "markdown",
   "metadata": {},
   "source": [
    "As a starting point we considered different regional analysis to view how consumer purchases may vary based on the region. These were grouped based on four main regions: northeast, midwest, south and west. For each region we analyzed the average amount spent on food as well as other characteristics such as household size. "
   ]
  },
  {
   "cell_type": "markdown",
   "metadata": {},
   "source": [
    "The section below deals with separating the houses based on region by comparing two different CSVs and selecting only the appropiate rows. Additionally it does some changes of variable types for consistency later on."
   ]
  },
  {
   "cell_type": "code",
   "execution_count": 1068,
   "metadata": {},
   "outputs": [],
   "source": [
    "all_households = pd.read_csv('faps_household_puf.csv', dtype=str)"
   ]
  },
  {
   "cell_type": "code",
   "execution_count": 1069,
   "metadata": {},
   "outputs": [],
   "source": [
    "northeast = all_households[all_households[\"region\"] == \"1\"]\n",
    "midwest = all_households[all_households[\"region\"] == \"2\"]\n",
    "south = all_households[all_households[\"region\"] == \"3\"]\n",
    "west = all_households[all_households[\"region\"] == \"4\"]"
   ]
  },
  {
   "cell_type": "code",
   "execution_count": 1070,
   "metadata": {},
   "outputs": [],
   "source": [
    "hh_choice = pd.read_csv('faps_fafhnutrient_puf.csv', dtype=str)"
   ]
  },
  {
   "cell_type": "code",
   "execution_count": 1071,
   "metadata": {},
   "outputs": [],
   "source": [
    "hh_choice[\"food\"] = hh_choice[\"usdafoodcat4\"].map(value_name_dict)"
   ]
  },
  {
   "cell_type": "code",
   "execution_count": 1072,
   "metadata": {},
   "outputs": [],
   "source": [
    "hh_choice['gramstotal'] = hh_choice['gramstotal'].astype(float)"
   ]
  },
  {
   "cell_type": "code",
   "execution_count": 1073,
   "metadata": {},
   "outputs": [],
   "source": [
    "northeast_hh = hh_choice[hh_choice[\"hhnum\"].isin(northeast[\"hhnum\"])]\n",
    "midwest_hh = hh_choice[hh_choice[\"hhnum\"].isin(midwest[\"hhnum\"])]\n",
    "south_hh = hh_choice[hh_choice[\"hhnum\"].isin(south[\"hhnum\"])]\n",
    "west_hh = hh_choice[hh_choice[\"hhnum\"].isin(west[\"hhnum\"])]\n",
    "\n",
    "northeast_hh['gramstotal'] = northeast_hh['gramstotal'].astype(float)\n",
    "midwest_hh['gramstotal'] = midwest_hh['gramstotal'].astype(float)\n",
    "south_hh['gramstotal'] = south_hh['gramstotal'].astype(float)\n",
    "west_hh['gramstotal'] = west_hh['gramstotal'].astype(float)"
   ]
  },
  {
   "cell_type": "code",
   "execution_count": 1074,
   "metadata": {},
   "outputs": [],
   "source": [
    "import re\n",
    "def numbers(value):\n",
    "    return re.findall(r'\\d+.\\d+', value)\n",
    "list_price = Prices.astype(str).apply(numbers)\n",
    "def first_list(value):\n",
    "    if len(value) >= 1:\n",
    "        return float(value[0])\n",
    "    else:\n",
    "        return float(0)\n",
    "corrected_prices = list_price.apply(first_list)"
   ]
  },
  {
   "cell_type": "code",
   "execution_count": 1075,
   "metadata": {},
   "outputs": [],
   "source": [
    "hh_stats = pd.read_csv('faps_individual_puf.csv', dtype=str)\n",
    "hh_stats[\"hhnum\"] = hh_stats[\"HHNUM\"]\n",
    "hh_stats_number_of_people = len(hh_stats)\n",
    "hh_stats_average_number_days = np.average(hh_stats[\"INITFINALDAYS\"].astype(float))"
   ]
  },
  {
   "cell_type": "code",
   "execution_count": 1076,
   "metadata": {},
   "outputs": [],
   "source": [
    "northeast_hh_number_of_people = len(hh_stats[hh_stats[\"HHNUM\"].isin(northeast[\"hhnum\"])])\n",
    "midwest_hh_number_of_people = len(hh_stats[hh_stats[\"HHNUM\"].isin(midwest[\"hhnum\"])])\n",
    "south_hh_number_of_people = len(hh_stats[hh_stats[\"HHNUM\"].isin(south[\"hhnum\"])])\n",
    "west_hh_number_of_people = len(hh_stats[hh_stats[\"HHNUM\"].isin(west[\"hhnum\"])])"
   ]
  },
  {
   "cell_type": "code",
   "execution_count": 1079,
   "metadata": {},
   "outputs": [],
   "source": [
    "regions = [hh_choice, northeast_hh, midwest_hh, south_hh, west_hh]\n",
    "values = []\n",
    "households = []\n",
    "number_of_people = []\n",
    "monthly_income = []\n",
    "measurement_time = []\n",
    "for region in regions:\n",
    "    food_df = pd.DataFrame()\n",
    "    food_df[\"Foods\"] = region.groupby(\"food\")[\"gramstotal\"].sum() / len(hh_stats[hh_stats[\"HHNUM\"].isin(region[\"hhnum\"])])\n",
    "    households.append(len(hh_stats[hh_stats[\"HHNUM\"].isin(region[\"hhnum\"])][\"hhnum\"].unique()))\n",
    "    monthly_income.append(np.average(all_households[all_households[\"hhnum\"].isin(region[\"hhnum\"])]['inchhavg_r'].astype(float)))\n",
    "    number_of_people.append(len(hh_stats[hh_stats[\"HHNUM\"].isin(region[\"hhnum\"])]))\n",
    "    region['gramstotal'] = region['gramstotal'].astype(float)\n",
    "    food_df[\"Price per Gram\"] = corrected_prices / 100\n",
    "    food_df[\"Amount Spent\"] = food_df[\"Foods\"] * food_df[\"Price per Gram\"] \n",
    "    number_of_days = np.average(hh_stats[hh_stats[\"HHNUM\"].isin(region[\"hhnum\"])][\"INITFINALDAYS\"].astype(int))\n",
    "    food_df[\"Amount Spent Daily\"] = food_df[\"Amount Spent\"] / number_of_days\n",
    "    measurement_time.append(number_of_days)\n",
    "    values.append(food_df[\"Amount Spent Daily\"].sum())\n",
    "\n",
    "values = np.round(values, 2)"
   ]
  },
  {
   "cell_type": "markdown",
   "metadata": {},
   "source": [
    "## Regional Differences\n",
    "We calculated the regional difference as well as for the total nation to see the differences below as well as proportions of values as they can serve as indicators for food expenditure habits."
   ]
  },
  {
   "cell_type": "code",
   "execution_count": 1082,
   "metadata": {},
   "outputs": [
    {
     "data": {
      "text/html": [
       "<div>\n",
       "<style scoped>\n",
       "    .dataframe tbody tr th:only-of-type {\n",
       "        vertical-align: middle;\n",
       "    }\n",
       "\n",
       "    .dataframe tbody tr th {\n",
       "        vertical-align: top;\n",
       "    }\n",
       "\n",
       "    .dataframe thead th {\n",
       "        text-align: right;\n",
       "    }\n",
       "</style>\n",
       "<table border=\"1\" class=\"dataframe\">\n",
       "  <thead>\n",
       "    <tr style=\"text-align: right;\">\n",
       "      <th></th>\n",
       "      <th>Amount Spent Daily ($)</th>\n",
       "      <th>Number of Households</th>\n",
       "      <th>Number of People</th>\n",
       "      <th>Average People per Household</th>\n",
       "      <th>Daily Income ($)</th>\n",
       "      <th>Proportion of Income Spent on Food (%)</th>\n",
       "    </tr>\n",
       "    <tr>\n",
       "      <th>Region</th>\n",
       "      <th></th>\n",
       "      <th></th>\n",
       "      <th></th>\n",
       "      <th></th>\n",
       "      <th></th>\n",
       "      <th></th>\n",
       "    </tr>\n",
       "  </thead>\n",
       "  <tbody>\n",
       "    <tr>\n",
       "      <th>Total</th>\n",
       "      <td>5.80</td>\n",
       "      <td>4305</td>\n",
       "      <td>13078</td>\n",
       "      <td>3.04</td>\n",
       "      <td>130.53</td>\n",
       "      <td>4.443423</td>\n",
       "    </tr>\n",
       "    <tr>\n",
       "      <th>Northeast</th>\n",
       "      <td>5.83</td>\n",
       "      <td>717</td>\n",
       "      <td>2094</td>\n",
       "      <td>2.92</td>\n",
       "      <td>165.03</td>\n",
       "      <td>3.532691</td>\n",
       "    </tr>\n",
       "    <tr>\n",
       "      <th>Midwest</th>\n",
       "      <td>5.08</td>\n",
       "      <td>1058</td>\n",
       "      <td>2989</td>\n",
       "      <td>2.83</td>\n",
       "      <td>125.50</td>\n",
       "      <td>4.047809</td>\n",
       "    </tr>\n",
       "    <tr>\n",
       "      <th>South</th>\n",
       "      <td>6.89</td>\n",
       "      <td>1582</td>\n",
       "      <td>4722</td>\n",
       "      <td>2.98</td>\n",
       "      <td>112.10</td>\n",
       "      <td>6.146298</td>\n",
       "    </tr>\n",
       "    <tr>\n",
       "      <th>West</th>\n",
       "      <td>4.76</td>\n",
       "      <td>948</td>\n",
       "      <td>3273</td>\n",
       "      <td>3.45</td>\n",
       "      <td>140.90</td>\n",
       "      <td>3.378282</td>\n",
       "    </tr>\n",
       "  </tbody>\n",
       "</table>\n",
       "</div>"
      ],
      "text/plain": [
       "           Amount Spent Daily ($)  Number of Households  Number of People  \\\n",
       "Region                                                                      \n",
       "Total                        5.80                  4305             13078   \n",
       "Northeast                    5.83                   717              2094   \n",
       "Midwest                      5.08                  1058              2989   \n",
       "South                        6.89                  1582              4722   \n",
       "West                         4.76                   948              3273   \n",
       "\n",
       "           Average People per Household  Daily Income ($)  \\\n",
       "Region                                                      \n",
       "Total                              3.04            130.53   \n",
       "Northeast                          2.92            165.03   \n",
       "Midwest                            2.83            125.50   \n",
       "South                              2.98            112.10   \n",
       "West                               3.45            140.90   \n",
       "\n",
       "           Proportion of Income Spent on Food (%)  \n",
       "Region                                             \n",
       "Total                                    4.443423  \n",
       "Northeast                                3.532691  \n",
       "Midwest                                  4.047809  \n",
       "South                                    6.146298  \n",
       "West                                     3.378282  "
      ]
     },
     "execution_count": 1082,
     "metadata": {},
     "output_type": "execute_result"
    }
   ],
   "source": [
    "regions = [\"Total\", \"Northeast\", \"Midwest\", \"South\", \"West\"]\n",
    "total_df = pd.DataFrame()\n",
    "total_df[\"Region\"] = regions\n",
    "total_df[\"Amount Spent Daily ($)\"] = values\n",
    "total_df[\"Number of Households\"] = households\n",
    "total_df[\"Number of People\"] = number_of_people\n",
    "ratio = [int(p) / int(h) for p,h in zip(number_of_people, households)]\n",
    "ratio = np.round(ratio, 2)\n",
    "total_df[\"Average People per Household\"] = ratio\n",
    "total_df[\"Daily Income ($)\"] = [np.round(int(p) / 30, 2) for p in monthly_income]\n",
    "total_df[\"Proportion of Income Spent on Food (%)\"] =  total_df[\"Amount Spent Daily ($)\"] / total_df[\"Daily Income ($)\"] * 100\n",
    "total_df= total_df.set_index('Region')\n",
    "total_df\n"
   ]
  },
  {
   "cell_type": "markdown",
   "metadata": {},
   "source": [
    "## Nutritional Thresholds\n",
    "This section analyzes on a high level whether the current average diets within each region meet nutritional thresholds. This was also regionally grouped to highlight differences but still does not deal with the demand system and predictions created later. This is aimed to serve as a current overview of how heathily certain regions are eating."
   ]
  },
  {
   "cell_type": "code",
   "execution_count": 1084,
   "metadata": {},
   "outputs": [
    {
     "name": "stdout",
     "output_type": "stream",
     "text": [
      "\n",
      "With the following nutritional outcomes of interest (All Locations):\n",
      "                                    Outcome  Recommendations\n",
      "Calcium, Ca                      842.056704           1000.0\n",
      "Carbohydrate, by difference      490.900674            130.0\n",
      "Energy                          3525.863878           2000.0\n",
      "Energy                          3525.863878           2400.0\n",
      "Fiber, total dietary              18.666947             28.0\n",
      "Folate, DFE                       46.168801            400.0\n",
      "Iron, Fe                          13.988815              8.0\n",
      "Magnesium, Mg                     36.105763            420.0\n",
      "Niacin                             3.233847             16.0\n",
      "Phosphorus, P                    214.493334            700.0\n",
      "Potassium, K                    1168.727481           4700.0\n",
      "Protein                          114.157212             56.0\n",
      "Riboflavin                         0.440693              1.3\n",
      "Sodium, Na                      5662.424236           2300.0\n",
      "Thiamin                            0.307983              1.2\n",
      "Vitamin A, RAE                   138.934076            900.0\n",
      "Vitamin B-12                       0.902952              2.4\n",
      "Vitamin B-6                        0.280788              1.7\n",
      "Vitamin C, total ascorbic acid    67.630763             90.0\n",
      "Vitamin D                         94.504347            600.0\n",
      "Vitamin E (alpha-tocopherol)       0.480295             15.0\n",
      "Vitamin K (phylloquinone)          4.547714            120.0\n",
      "Zinc, Zn                           1.407262             11.0\n"
     ]
    }
   ],
   "source": [
    "food_df = pd.DataFrame()\n",
    "food_df[\"Amount in Hectograms\"] = hh_choice.groupby(\"food\")[\"gramstotal\"].sum() / len(hh_stats) / 100\n",
    "hh_choice['gramstotal'] = hh_choice['gramstotal'].astype(float)\n",
    "food_df[\"Price per Hectogram\"] = corrected_prices\n",
    "food_df[\"Amount Spent\"] = food_df[\"Amount in Hectograms\"] * food_df[\"Price per Hectogram\"] \n",
    "results = np.abs(b).align(D.fillna(0) @ food_df[[\"Amount in Hectograms\"]][\"Amount in Hectograms\"], 'inner')[1]\n",
    "recommendation = np.abs(b).align(D.fillna(0) @ food_df[[\"Amount in Hectograms\"]][\"Amount in Hectograms\"], 'inner')[0]\n",
    "tab = pd.DataFrame()\n",
    "tab[\"Outcome\"] = results\n",
    "tab[\"Recommendations\"] = recommendation\n",
    "print(\"\\nWith the following nutritional outcomes of interest (All Locations):\")\n",
    "print(tab)\n"
   ]
  },
  {
   "cell_type": "code",
   "execution_count": 1085,
   "metadata": {},
   "outputs": [],
   "source": [
    "fixed_D = D.loc[:,D.columns.to_series().isin(food_df.index.to_series()).tolist()]"
   ]
  },
  {
   "cell_type": "code",
   "execution_count": 1086,
   "metadata": {},
   "outputs": [
    {
     "name": "stdout",
     "output_type": "stream",
     "text": [
      "\n",
      "With the following nutritional outcomes of interest (Northeast):\n",
      "                                    Outcome  Recommendations\n",
      "Calcium, Ca                      888.208912           1000.0\n",
      "Carbohydrate, by difference      576.677925            130.0\n",
      "Energy                          4032.149594           2000.0\n",
      "Energy                          4032.149594           2400.0\n",
      "Fiber, total dietary              19.019612             28.0\n",
      "Folate, DFE                       57.083214            400.0\n",
      "Iron, Fe                          14.676027              8.0\n",
      "Magnesium, Mg                     33.366701            420.0\n",
      "Niacin                             3.113074             16.0\n",
      "Phosphorus, P                    189.875106            700.0\n",
      "Potassium, K                    1145.200453           4700.0\n",
      "Protein                          120.145413             56.0\n",
      "Riboflavin                         0.428380              1.3\n",
      "Sodium, Na                      6056.619350           2300.0\n",
      "Thiamin                            0.292872              1.2\n",
      "Vitamin A, RAE                   149.240918            900.0\n",
      "Vitamin B-12                       0.919921              2.4\n",
      "Vitamin B-6                        0.259799              1.7\n",
      "Vitamin C, total ascorbic acid    68.976095             90.0\n",
      "Vitamin D                         97.908572            600.0\n",
      "Vitamin E (alpha-tocopherol)       0.442859             15.0\n",
      "Vitamin K (phylloquinone)          3.455849            120.0\n",
      "Zinc, Zn                           1.361572             11.0\n"
     ]
    }
   ],
   "source": [
    "food_df = pd.DataFrame()\n",
    "food_df[\"Amount in Hectograms\"] = northeast_hh.groupby(\"food\")[\"gramstotal\"].sum() / len(hh_stats[hh_stats[\"HHNUM\"].isin(northeast_hh[\"hhnum\"])]) / 100\n",
    "northeast_hh['gramstotal'] = northeast_hh['gramstotal'].astype(float)\n",
    "food_df[\"Price per Hectogram\"] = corrected_prices\n",
    "food_df[\"Amount Spent\"] = food_df[\"Amount in Hectograms\"] * food_df[\"Price per Hectogram\"] \n",
    "fixed_D = D.loc[:,D.columns.to_series().isin(food_df.index.to_series()).tolist()]\n",
    "results = np.abs(b).align(fixed_D.fillna(0) @ food_df[[\"Amount in Hectograms\"]][\"Amount in Hectograms\"], 'inner')[1]\n",
    "recommendation = np.abs(b).align(fixed_D.fillna(0) @ food_df[[\"Amount in Hectograms\"]][\"Amount in Hectograms\"], 'inner')[0]\n",
    "tab = pd.DataFrame()\n",
    "tab[\"Outcome\"] = results\n",
    "tab[\"Recommendations\"] = recommendation\n",
    "print(\"\\nWith the following nutritional outcomes of interest (Northeast):\")\n",
    "print(tab)"
   ]
  },
  {
   "cell_type": "code",
   "execution_count": 1087,
   "metadata": {},
   "outputs": [
    {
     "name": "stdout",
     "output_type": "stream",
     "text": [
      "\n",
      "With the following nutritional outcomes of interest (Midwest):\n",
      "                                    Outcome  Recommendations\n",
      "Calcium, Ca                     1008.763675           1000.0\n",
      "Carbohydrate, by difference      591.055194            130.0\n",
      "Energy                          4248.948894           2000.0\n",
      "Energy                          4248.948894           2400.0\n",
      "Fiber, total dietary              21.497283             28.0\n",
      "Folate, DFE                       62.343860            400.0\n",
      "Iron, Fe                          15.654134              8.0\n",
      "Magnesium, Mg                     42.032283            420.0\n",
      "Niacin                             4.029815             16.0\n",
      "Phosphorus, P                    261.092795            700.0\n",
      "Potassium, K                    1329.695007           4700.0\n",
      "Protein                          133.149679             56.0\n",
      "Riboflavin                         0.553152              1.3\n",
      "Sodium, Na                      6847.487014           2300.0\n",
      "Thiamin                            0.387893              1.2\n",
      "Vitamin A, RAE                   202.811174            900.0\n",
      "Vitamin B-12                       1.176681              2.4\n",
      "Vitamin B-6                        0.350446              1.7\n",
      "Vitamin C, total ascorbic acid    76.161243             90.0\n",
      "Vitamin D                        116.669284            600.0\n",
      "Vitamin E (alpha-tocopherol)       0.667329             15.0\n",
      "Vitamin K (phylloquinone)          7.266883            120.0\n",
      "Zinc, Zn                           1.806889             11.0\n"
     ]
    }
   ],
   "source": [
    "food_df = pd.DataFrame()\n",
    "food_df[\"Amount in Hectograms\"] = midwest_hh.groupby(\"food\")[\"gramstotal\"].sum() / len(hh_stats[hh_stats[\"HHNUM\"].isin(midwest_hh[\"hhnum\"])]) / 100\n",
    "midwest_hh['gramstotal'] = midwest_hh['gramstotal'].astype(float)\n",
    "food_df[\"Price per Hectogram\"] = corrected_prices\n",
    "food_df[\"Amount Spent\"] = food_df[\"Amount in Hectograms\"] * food_df[\"Price per Hectogram\"] \n",
    "fixed_D = D.loc[:,D.columns.to_series().isin(food_df.index.to_series()).tolist()]\n",
    "results = np.abs(b).align(fixed_D.fillna(0) @ food_df[[\"Amount in Hectograms\"]][\"Amount in Hectograms\"], 'inner')[1]\n",
    "recommendation = np.abs(b).align(fixed_D.fillna(0) @ food_df[[\"Amount in Hectograms\"]][\"Amount in Hectograms\"], 'inner')[0]\n",
    "tab = pd.DataFrame()\n",
    "tab[\"Outcome\"] = results\n",
    "tab[\"Recommendations\"] = recommendation\n",
    "print(\"\\nWith the following nutritional outcomes of interest (Midwest):\")\n",
    "print(tab)"
   ]
  },
  {
   "cell_type": "code",
   "execution_count": 1088,
   "metadata": {},
   "outputs": [
    {
     "name": "stdout",
     "output_type": "stream",
     "text": [
      "\n",
      "With the following nutritional outcomes of interest (South):\n",
      "                                    Outcome  Recommendations\n",
      "Calcium, Ca                      969.510514           1000.0\n",
      "Carbohydrate, by difference      522.255389            130.0\n",
      "Energy                          3813.151159           2000.0\n",
      "Energy                          3813.151159           2400.0\n",
      "Fiber, total dietary              21.321479             28.0\n",
      "Folate, DFE                       50.175838            400.0\n",
      "Iron, Fe                          16.371394              8.0\n",
      "Magnesium, Mg                     41.932481            420.0\n",
      "Niacin                             3.934809             16.0\n",
      "Phosphorus, P                    249.838210            700.0\n",
      "Potassium, K                    1432.753136           4700.0\n",
      "Protein                          131.113660             56.0\n",
      "Riboflavin                         0.500746              1.3\n",
      "Sodium, Na                      6345.099861           2300.0\n",
      "Thiamin                            0.385065              1.2\n",
      "Vitamin A, RAE                   133.806399            900.0\n",
      "Vitamin B-12                       1.013267              2.4\n",
      "Vitamin B-6                        0.335871              1.7\n",
      "Vitamin C, total ascorbic acid    76.455317             90.0\n",
      "Vitamin D                        107.526620            600.0\n",
      "Vitamin E (alpha-tocopherol)       0.530364             15.0\n",
      "Vitamin K (phylloquinone)          4.691297            120.0\n",
      "Zinc, Zn                           1.590944             11.0\n"
     ]
    }
   ],
   "source": [
    "food_df = pd.DataFrame()\n",
    "food_df[\"Amount in Hectograms\"] = south_hh.groupby(\"food\")[\"gramstotal\"].sum() / len(hh_stats[hh_stats[\"HHNUM\"].isin(south_hh[\"hhnum\"])]) / 100\n",
    "south_hh['gramstotal'] = south_hh['gramstotal'].astype(float)\n",
    "food_df[\"Price per Hectogram\"] = corrected_prices\n",
    "food_df[\"Amount Spent\"] = food_df[\"Amount in Hectograms\"] * food_df[\"Price per Hectogram\"] \n",
    "fixed_D = D.loc[:,D.columns.to_series().isin(food_df.index.to_series()).tolist()]\n",
    "results = np.abs(b).align(fixed_D.fillna(0) @ food_df[[\"Amount in Hectograms\"]][\"Amount in Hectograms\"], 'inner')[1]\n",
    "recommendation = np.abs(b).align(fixed_D.fillna(0) @ food_df[[\"Amount in Hectograms\"]][\"Amount in Hectograms\"], 'inner')[0]\n",
    "tab = pd.DataFrame()\n",
    "tab[\"Outcome\"] = results\n",
    "tab[\"Recommendations\"] = recommendation\n",
    "print(\"\\nWith the following nutritional outcomes of interest (South):\")\n",
    "print(tab)"
   ]
  },
  {
   "cell_type": "code",
   "execution_count": 1089,
   "metadata": {},
   "outputs": [
    {
     "name": "stdout",
     "output_type": "stream",
     "text": [
      "\n",
      "With the following nutritional outcomes of interest (West):\n",
      "                                    Outcome  Recommendations\n",
      "Calcium, Ca                      795.170518           1000.0\n",
      "Carbohydrate, by difference      485.153514            130.0\n",
      "Energy                          3461.858808           2000.0\n",
      "Energy                          3461.858808           2400.0\n",
      "Fiber, total dietary              19.093250             28.0\n",
      "Folate, DFE                       36.110717            400.0\n",
      "Iron, Fe                          13.886444              8.0\n",
      "Magnesium, Mg                     37.707507            420.0\n",
      "Niacin                             2.797106             16.0\n",
      "Phosphorus, P                    217.891902            700.0\n",
      "Potassium, K                    1098.289919           4700.0\n",
      "Protein                          111.732727             56.0\n",
      "Riboflavin                         0.426054              1.3\n",
      "Sodium, Na                      5486.607590           2300.0\n",
      "Thiamin                            0.250055              1.2\n",
      "Vitamin A, RAE                   133.997026            900.0\n",
      "Vitamin B-12                       0.824780              2.4\n",
      "Vitamin B-6                        0.257424              1.7\n",
      "Vitamin C, total ascorbic acid    71.850206             90.0\n",
      "Vitamin D                         89.072104            600.0\n",
      "Vitamin E (alpha-tocopherol)       0.443024             15.0\n",
      "Vitamin K (phylloquinone)          4.277438            120.0\n",
      "Zinc, Zn                           1.339265             11.0\n"
     ]
    }
   ],
   "source": [
    "food_df = pd.DataFrame()\n",
    "food_df[\"Amount in Hectograms\"] = west_hh.groupby(\"food\")[\"gramstotal\"].sum() / len(hh_stats[hh_stats[\"HHNUM\"].isin(west_hh[\"hhnum\"])]) / 100\n",
    "west_hh['gramstotal'] = west_hh['gramstotal'].astype(float)\n",
    "food_df[\"Price per Hectogram\"] = corrected_prices\n",
    "food_df[\"Amount Spent\"] = food_df[\"Amount in Hectograms\"] * food_df[\"Price per Hectogram\"] \n",
    "fixed_D = D.loc[:,D.columns.to_series().isin(food_df.index.to_series()).tolist()]\n",
    "results = np.abs(b).align(fixed_D.fillna(0) @ food_df[[\"Amount in Hectograms\"]][\"Amount in Hectograms\"], 'inner')[1]\n",
    "recommendation = np.abs(b).align(fixed_D.fillna(0) @ food_df[[\"Amount in Hectograms\"]][\"Amount in Hectograms\"], 'inner')[0]\n",
    "tab = pd.DataFrame()\n",
    "tab[\"Outcome\"] = results\n",
    "tab[\"Recommendations\"] = recommendation\n",
    "print(\"\\nWith the following nutritional outcomes of interest (West):\")\n",
    "print(tab)"
   ]
  },
  {
   "cell_type": "markdown",
   "metadata": {},
   "source": [
    "## Demand Estimation Cleaning\n",
    "This section deals with cleaning the household data in order to ready it for the data estimation. This works on grouping the expenditures per household and having the grams of each food organized in a way that will be used in the estimation system."
   ]
  },
  {
   "cell_type": "code",
   "execution_count": 1097,
   "metadata": {},
   "outputs": [],
   "source": [
    "hh_choice['gramstotal'] = hh_choice['gramstotal'].astype(float)"
   ]
  },
  {
   "cell_type": "code",
   "execution_count": 1098,
   "metadata": {},
   "outputs": [],
   "source": [
    "households = all_households[\"hhnum\"].tolist()\n",
    "regions = all_households[\"region\"].tolist()\n",
    "household_region_dict = dict(zip(households,regions))"
   ]
  },
  {
   "cell_type": "code",
   "execution_count": 1099,
   "metadata": {},
   "outputs": [],
   "source": [
    "hh_choice[\"region\"] = hh_choice[\"hhnum\"].map(household_region_dict)"
   ]
  },
  {
   "cell_type": "code",
   "execution_count": 1100,
   "metadata": {},
   "outputs": [],
   "source": [
    "hi = hh_choice.groupby([\"hhnum\",\"region\", \"food\"])[\"gramstotal\"].sum().unstack('food')\n",
    "like = hi.reset_index().rename_axis(None, axis=1)"
   ]
  },
  {
   "cell_type": "code",
   "execution_count": 1101,
   "metadata": {},
   "outputs": [],
   "source": [
    "#like.insert(1, \"year\", [2013] * len(grouped))\n",
    "like = like.rename(index=str, columns={\"hhnum\": \"j\", \"year\": \"t\", \"region\": \"m\"})"
   ]
  },
  {
   "cell_type": "code",
   "execution_count": 1102,
   "metadata": {},
   "outputs": [],
   "source": [
    "grouped = hh_choice.groupby([\"hhnum\",\"region\", \"food\"])[\"gramstotal\"].sum().unstack('food')\n",
    "grouped = grouped.reset_index().rename_axis(None, axis=1)\n",
    "grouped.insert(1, \"year\", [2013] * len(grouped))\n",
    "grouped = grouped.rename(index=str, columns={\"hhnum\": \"j\", \"year\": \"t\", \"region\": \"m\"})"
   ]
  },
  {
   "cell_type": "markdown",
   "metadata": {},
   "source": [
    "## Household Data"
   ]
  },
  {
   "cell_type": "markdown",
   "metadata": {},
   "source": [
    "This section deals with cleaning the household data in terms of number of people in the house and the age/sex breakdown. This is useful in being able to relate the size and demographics of household to the expenditure data in the estimation system."
   ]
  },
  {
   "cell_type": "code",
   "execution_count": 1103,
   "metadata": {},
   "outputs": [],
   "source": [
    "hh_stats = pd.read_csv('faps_individual_puf.csv', dtype=str)"
   ]
  },
  {
   "cell_type": "code",
   "execution_count": 1106,
   "metadata": {},
   "outputs": [],
   "source": [
    "hh_stats = pd.read_csv('faps_individual_puf.csv', dtype=str)\n",
    "hh_stats = hh_stats[[\"HHNUM\", \"SEX\", \"AGE_R\"]]\n",
    "hh_stats = hh_stats[hh_stats[\"AGE_R\"] != 'D']\n",
    "hh_stats['AGE_R'] = hh_stats['AGE_R'].astype(float)\n",
    "def men_function(x):\n",
    "    if float(x[\"AGE_R\"]) >= 18 and x[\"SEX\"] == '1':\n",
    "        return 1\n",
    "    return 0\n",
    "def boy_function(x):\n",
    "    if float(x[\"AGE_R\"]) < 18 and x[\"SEX\"] == '1':\n",
    "        return 1\n",
    "    return 0\n",
    "def women_function(x):\n",
    "    if float(x[\"AGE_R\"]) >= 18 and x[\"SEX\"] == '2':\n",
    "        return 1\n",
    "    return 0\n",
    "def girl_function(x):\n",
    "    if float(x[\"AGE_R\"]) < 18 and x[\"SEX\"] == '2':\n",
    "        return 1\n",
    "    return 0\n",
    "#hh_stats[\"ADULT\"] = hh_stats[\"AGE_R\"].apply(over_eighteen)\n",
    "hh_stats[\"Men\"] = hh_stats.apply(men_function, axis=1)\n",
    "hh_stats[\"Women\"] = hh_stats.apply(women_function, axis=1)\n",
    "hh_stats[\"Boys\"] = hh_stats.apply(boy_function, axis=1)\n",
    "hh_stats[\"Girls\"] = hh_stats.apply(girl_function, axis=1)"
   ]
  },
  {
   "cell_type": "code",
   "execution_count": 1107,
   "metadata": {},
   "outputs": [],
   "source": [
    "def household_size(x):\n",
    "    return np.log(x[\"Men\"] + x[\"Women\"] + x[\"Boys\"] + x[\"Girls\"])"
   ]
  },
  {
   "cell_type": "code",
   "execution_count": 1158,
   "metadata": {},
   "outputs": [],
   "source": [
    "hh_stats = hh_stats[[\"HHNUM\", \"Men\", \"Women\", \"Boys\", \"Girls\"]]\n",
    "hh_stats_grouped = hh_stats.groupby(\"HHNUM\").sum().reset_index()\n",
    "region_col = hh_stats_grouped[\"HHNUM\"].map(household_region_dict)\n",
    "hh_stats_grouped.insert(1, \"region\", region_col)\n",
    "hh_stats_grouped.insert(1, \"year\", [2013] * len(hh_stats_grouped))\n",
    "hh_stats_grouped[\"logHsize\"] = hh_stats_grouped.apply(household_size, axis=1)\n",
    "hh_stats_grouped = hh_stats_grouped.rename(index=str, columns={\"HHNUM\": \"j\", \"year\": \"t\", \"region\": \"m\"})\n",
    "hh_stats_grouped['j'] = hh_stats_grouped['j'].astype(int)\n",
    "hh_stats_grouped['t'] = hh_stats_grouped['t'].astype(int)\n",
    "hh_stats_grouped['m'] = hh_stats_grouped['m'].astype(int)"
   ]
  },
  {
   "cell_type": "markdown",
   "metadata": {},
   "source": [
    "Below is an example of what the cleaned household looks like entering demand system."
   ]
  },
  {
   "cell_type": "code",
   "execution_count": 1159,
   "metadata": {},
   "outputs": [
    {
     "data": {
      "text/html": [
       "<div>\n",
       "<style scoped>\n",
       "    .dataframe tbody tr th:only-of-type {\n",
       "        vertical-align: middle;\n",
       "    }\n",
       "\n",
       "    .dataframe tbody tr th {\n",
       "        vertical-align: top;\n",
       "    }\n",
       "\n",
       "    .dataframe thead th {\n",
       "        text-align: right;\n",
       "    }\n",
       "</style>\n",
       "<table border=\"1\" class=\"dataframe\">\n",
       "  <thead>\n",
       "    <tr style=\"text-align: right;\">\n",
       "      <th></th>\n",
       "      <th>j</th>\n",
       "      <th>t</th>\n",
       "      <th>m</th>\n",
       "      <th>Men</th>\n",
       "      <th>Women</th>\n",
       "      <th>Boys</th>\n",
       "      <th>Girls</th>\n",
       "      <th>logHsize</th>\n",
       "    </tr>\n",
       "  </thead>\n",
       "  <tbody>\n",
       "    <tr>\n",
       "      <th>0</th>\n",
       "      <td>100012</td>\n",
       "      <td>2013</td>\n",
       "      <td>3</td>\n",
       "      <td>2</td>\n",
       "      <td>1</td>\n",
       "      <td>1</td>\n",
       "      <td>1</td>\n",
       "      <td>1.609438</td>\n",
       "    </tr>\n",
       "    <tr>\n",
       "      <th>1</th>\n",
       "      <td>100015</td>\n",
       "      <td>2013</td>\n",
       "      <td>3</td>\n",
       "      <td>1</td>\n",
       "      <td>0</td>\n",
       "      <td>0</td>\n",
       "      <td>0</td>\n",
       "      <td>0.000000</td>\n",
       "    </tr>\n",
       "    <tr>\n",
       "      <th>2</th>\n",
       "      <td>100024</td>\n",
       "      <td>2013</td>\n",
       "      <td>2</td>\n",
       "      <td>0</td>\n",
       "      <td>1</td>\n",
       "      <td>1</td>\n",
       "      <td>0</td>\n",
       "      <td>0.693147</td>\n",
       "    </tr>\n",
       "    <tr>\n",
       "      <th>3</th>\n",
       "      <td>100026</td>\n",
       "      <td>2013</td>\n",
       "      <td>3</td>\n",
       "      <td>2</td>\n",
       "      <td>1</td>\n",
       "      <td>0</td>\n",
       "      <td>0</td>\n",
       "      <td>1.098612</td>\n",
       "    </tr>\n",
       "    <tr>\n",
       "      <th>4</th>\n",
       "      <td>100028</td>\n",
       "      <td>2013</td>\n",
       "      <td>1</td>\n",
       "      <td>3</td>\n",
       "      <td>2</td>\n",
       "      <td>1</td>\n",
       "      <td>1</td>\n",
       "      <td>1.945910</td>\n",
       "    </tr>\n",
       "  </tbody>\n",
       "</table>\n",
       "</div>"
      ],
      "text/plain": [
       "        j     t  m  Men  Women  Boys  Girls  logHsize\n",
       "0  100012  2013  3    2      1     1      1  1.609438\n",
       "1  100015  2013  3    1      0     0      0  0.000000\n",
       "2  100024  2013  2    0      1     1      0  0.693147\n",
       "3  100026  2013  3    2      1     0      0  1.098612\n",
       "4  100028  2013  1    3      2     1      1  1.945910"
      ]
     },
     "execution_count": 1159,
     "metadata": {},
     "output_type": "execute_result"
    }
   ],
   "source": [
    "hh_stats_grouped.head()"
   ]
  },
  {
   "cell_type": "markdown",
   "metadata": {},
   "source": [
    "## Setting Up Estimation System"
   ]
  },
  {
   "cell_type": "markdown",
   "metadata": {},
   "source": [
    "This is the basic cleaning and set up of the estimation system."
   ]
  },
  {
   "cell_type": "code",
   "execution_count": 1160,
   "metadata": {},
   "outputs": [],
   "source": [
    "grouped['j'] = grouped['j'].astype(int)\n",
    "grouped['t'] = grouped['t'].astype(int)\n",
    "grouped['m'] = grouped['m'].astype(int)"
   ]
  },
  {
   "cell_type": "code",
   "execution_count": 1161,
   "metadata": {},
   "outputs": [],
   "source": [
    "import pandas as pd\n",
    "import numpy as np\n",
    "\n",
    "x = grouped\n",
    "\n",
    "z = hh_stats_grouped\n",
    "\n",
    "# Take logs of expenditures; call this y\n",
    "y = np.log(x.replace(0,np.nan).set_index(['j','t','m']))\n",
    "\n",
    "z.set_index(['j','t','m'],inplace=True)"
   ]
  },
  {
   "cell_type": "code",
   "execution_count": 1162,
   "metadata": {},
   "outputs": [],
   "source": [
    "prices_cleaned = prices_df[\"Price\"].tolist() *4\n",
    "food_names = prices_df[\"Food\"].tolist() * 4\n",
    "years = [2013] * len(food_names)\n",
    "region = [1] * len(prices_df[\"Price\"].tolist())\n",
    "region.extend([2] * len(prices_df[\"Price\"].tolist()))\n",
    "region.extend([3] * len(prices_df[\"Price\"].tolist()))\n",
    "region.extend([4] * len(prices_df[\"Price\"].tolist()))\n",
    "prices_final = pd.DataFrame()\n",
    "prices_final[\"t\"] = years\n",
    "prices_final[\"m\"] = region\n",
    "prices_final[\"i\"] = food_names\n",
    "prices_final[\"prices\"] = prices_cleaned\n",
    "prices_final_south = prices_final[prices_final['m'] == 3]\n",
    "prices_final_west = prices_final[prices_final['m'] == 4]\n",
    "prices_final.set_index(['t','m', 'i'],inplace=True)\n",
    "prices_final_south.set_index(['t','m', 'i'],inplace=True)\n",
    "prices_final_west.set_index(['t','m', 'i'],inplace=True)"
   ]
  },
  {
   "cell_type": "code",
   "execution_count": 1163,
   "metadata": {},
   "outputs": [],
   "source": [
    "prices_final = prices_final.squeeze()\n",
    "prices_final_south =prices_final_south.squeeze()\n",
    "prices_final_west = prices_final_west.squeeze()"
   ]
  },
  {
   "cell_type": "code",
   "execution_count": 1164,
   "metadata": {},
   "outputs": [],
   "source": [
    "z_south = z.iloc[z.index.get_level_values('m') == 3]\n",
    "z_west = z.iloc[z.index.get_level_values('m') == 4]"
   ]
  },
  {
   "cell_type": "code",
   "execution_count": 1165,
   "metadata": {},
   "outputs": [],
   "source": [
    "y_south = y.iloc[y.index.get_level_values('m') == 3]\n",
    "y_west = y.iloc[y.index.get_level_values('m') == 4]"
   ]
  },
  {
   "cell_type": "code",
   "execution_count": 1166,
   "metadata": {},
   "outputs": [],
   "source": [
    "import cfe\n",
    "result = cfe.Result(y=y,z=z,prices = prices_final)\n",
    "\n",
    "south = cfe.Result(y=y_south,z=z_south,prices = prices_final_south)\n",
    "west = cfe.Result(y=y_west,z=z_west,prices = prices_final_west)"
   ]
  },
  {
   "cell_type": "markdown",
   "metadata": {},
   "source": [
    "### First step of Estimation\n",
    "\n"
   ]
  },
  {
   "cell_type": "markdown",
   "metadata": {},
   "source": [
    "Recall that there are two steps to estimation; the first step\n",
    "involves estimating the &ldquo;reduced form&rdquo; linear regression \n",
    "$$\n",
    "y_{it}^j = {a}_{it} + \\delta_i'{z}^j_t + \\epsilon_{it}^j.\n",
    "$$\n",
    "\n",
    "The Result class has code to estimate this in one line:\n",
    "\n"
   ]
  },
  {
   "cell_type": "code",
   "execution_count": 1167,
   "metadata": {},
   "outputs": [],
   "source": [
    "result.get_reduced_form()\n",
    "south.get_reduced_form()\n",
    "west.get_reduced_form()"
   ]
  },
  {
   "cell_type": "markdown",
   "metadata": {},
   "source": [
    "After running this we can examine the estimated coefficients $\\delta$:\n",
    "\n"
   ]
  },
  {
   "cell_type": "code",
   "execution_count": 1170,
   "metadata": {},
   "outputs": [
    {
     "data": {
      "text/html": [
       "<div>\n",
       "<style scoped>\n",
       "    .dataframe tbody tr th:only-of-type {\n",
       "        vertical-align: middle;\n",
       "    }\n",
       "\n",
       "    .dataframe tbody tr th {\n",
       "        vertical-align: top;\n",
       "    }\n",
       "\n",
       "    .dataframe thead tr th {\n",
       "        text-align: left;\n",
       "    }\n",
       "\n",
       "    .dataframe thead tr:last-of-type th {\n",
       "        text-align: right;\n",
       "    }\n",
       "</style>\n",
       "<table border=\"1\" class=\"dataframe\">\n",
       "  <thead>\n",
       "    <tr>\n",
       "      <th></th>\n",
       "      <th colspan=\"5\" halign=\"left\">delta</th>\n",
       "    </tr>\n",
       "    <tr>\n",
       "      <th>k</th>\n",
       "      <th>Boys</th>\n",
       "      <th>Girls</th>\n",
       "      <th>Men</th>\n",
       "      <th>Women</th>\n",
       "      <th>logHsize</th>\n",
       "    </tr>\n",
       "    <tr>\n",
       "      <th>i</th>\n",
       "      <th></th>\n",
       "      <th></th>\n",
       "      <th></th>\n",
       "      <th></th>\n",
       "      <th></th>\n",
       "    </tr>\n",
       "  </thead>\n",
       "  <tbody>\n",
       "    <tr>\n",
       "      <th>Apple juice</th>\n",
       "      <td>0.028696</td>\n",
       "      <td>-0.037768</td>\n",
       "      <td>0.025703</td>\n",
       "      <td>-0.023070</td>\n",
       "      <td>0.271712</td>\n",
       "    </tr>\n",
       "    <tr>\n",
       "      <th>Apples</th>\n",
       "      <td>0.161655</td>\n",
       "      <td>0.213194</td>\n",
       "      <td>0.095476</td>\n",
       "      <td>0.087634</td>\n",
       "      <td>-0.431094</td>\n",
       "    </tr>\n",
       "    <tr>\n",
       "      <th>Beans, peas, legumes</th>\n",
       "      <td>-0.053173</td>\n",
       "      <td>-0.123647</td>\n",
       "      <td>-0.092651</td>\n",
       "      <td>-0.089595</td>\n",
       "      <td>0.330199</td>\n",
       "    </tr>\n",
       "    <tr>\n",
       "      <th>Beef, excludes ground</th>\n",
       "      <td>-0.012953</td>\n",
       "      <td>-0.082544</td>\n",
       "      <td>-0.021752</td>\n",
       "      <td>-0.071837</td>\n",
       "      <td>0.156066</td>\n",
       "    </tr>\n",
       "    <tr>\n",
       "      <th>Biscuits, muffins, quick breads</th>\n",
       "      <td>-0.035651</td>\n",
       "      <td>-0.005618</td>\n",
       "      <td>0.003974</td>\n",
       "      <td>0.016000</td>\n",
       "      <td>0.154234</td>\n",
       "    </tr>\n",
       "  </tbody>\n",
       "</table>\n",
       "</div>"
      ],
      "text/plain": [
       "                                    delta                                \\\n",
       "k                                    Boys     Girls       Men     Women   \n",
       "i                                                                         \n",
       "Apple juice                      0.028696 -0.037768  0.025703 -0.023070   \n",
       "Apples                           0.161655  0.213194  0.095476  0.087634   \n",
       "Beans, peas, legumes            -0.053173 -0.123647 -0.092651 -0.089595   \n",
       "Beef, excludes ground           -0.012953 -0.082544 -0.021752 -0.071837   \n",
       "Biscuits, muffins, quick breads -0.035651 -0.005618  0.003974  0.016000   \n",
       "\n",
       "                                           \n",
       "k                                logHsize  \n",
       "i                                          \n",
       "Apple juice                      0.271712  \n",
       "Apples                          -0.431094  \n",
       "Beans, peas, legumes             0.330199  \n",
       "Beef, excludes ground            0.156066  \n",
       "Biscuits, muffins, quick breads  0.154234  "
      ]
     },
     "execution_count": 1170,
     "metadata": {},
     "output_type": "execute_result"
    }
   ],
   "source": [
    "result.delta.to_dataframe().unstack('k').head()"
   ]
  },
  {
   "cell_type": "markdown",
   "metadata": {},
   "source": [
    "Also the good-time constants $a_{it}$:\n",
    "\n"
   ]
  },
  {
   "cell_type": "code",
   "execution_count": 1171,
   "metadata": {
    "scrolled": false
   },
   "outputs": [
    {
     "data": {
      "text/html": [
       "<div>\n",
       "<style scoped>\n",
       "    .dataframe tbody tr th:only-of-type {\n",
       "        vertical-align: middle;\n",
       "    }\n",
       "\n",
       "    .dataframe tbody tr th {\n",
       "        vertical-align: top;\n",
       "    }\n",
       "\n",
       "    .dataframe thead tr th {\n",
       "        text-align: left;\n",
       "    }\n",
       "\n",
       "    .dataframe thead tr:last-of-type th {\n",
       "        text-align: right;\n",
       "    }\n",
       "</style>\n",
       "<table border=\"1\" class=\"dataframe\">\n",
       "  <thead>\n",
       "    <tr>\n",
       "      <th></th>\n",
       "      <th></th>\n",
       "      <th colspan=\"21\" halign=\"left\">a</th>\n",
       "    </tr>\n",
       "    <tr>\n",
       "      <th></th>\n",
       "      <th>i</th>\n",
       "      <th>Apple juice</th>\n",
       "      <th>Apples</th>\n",
       "      <th>Beans, peas, legumes</th>\n",
       "      <th>Beef, excludes ground</th>\n",
       "      <th>Biscuits, muffins, quick breads</th>\n",
       "      <th>Bottled water</th>\n",
       "      <th>Burgers</th>\n",
       "      <th>Burritos and tacos</th>\n",
       "      <th>Cakes and pies</th>\n",
       "      <th>Candy containing chocolate</th>\n",
       "      <th>...</th>\n",
       "      <th>Sports and energy drinks</th>\n",
       "      <th>Stir-fry and soy-based sauce mixtures</th>\n",
       "      <th>String beans</th>\n",
       "      <th>Tap water</th>\n",
       "      <th>Tea</th>\n",
       "      <th>Tomato-based condiments</th>\n",
       "      <th>Tortilla, corn, and other chips</th>\n",
       "      <th>Vegetable mixed dishes</th>\n",
       "      <th>White potatoes, baked or boiled</th>\n",
       "      <th>Yeast breads</th>\n",
       "    </tr>\n",
       "    <tr>\n",
       "      <th>t</th>\n",
       "      <th>m</th>\n",
       "      <th></th>\n",
       "      <th></th>\n",
       "      <th></th>\n",
       "      <th></th>\n",
       "      <th></th>\n",
       "      <th></th>\n",
       "      <th></th>\n",
       "      <th></th>\n",
       "      <th></th>\n",
       "      <th></th>\n",
       "      <th></th>\n",
       "      <th></th>\n",
       "      <th></th>\n",
       "      <th></th>\n",
       "      <th></th>\n",
       "      <th></th>\n",
       "      <th></th>\n",
       "      <th></th>\n",
       "      <th></th>\n",
       "      <th></th>\n",
       "      <th></th>\n",
       "    </tr>\n",
       "  </thead>\n",
       "  <tbody>\n",
       "    <tr>\n",
       "      <th rowspan=\"4\" valign=\"top\">2013</th>\n",
       "      <th>1</th>\n",
       "      <td>5.559769</td>\n",
       "      <td>5.233387</td>\n",
       "      <td>5.122763</td>\n",
       "      <td>5.088013</td>\n",
       "      <td>4.681985</td>\n",
       "      <td>6.697891</td>\n",
       "      <td>5.308516</td>\n",
       "      <td>6.024735</td>\n",
       "      <td>4.968167</td>\n",
       "      <td>4.401958</td>\n",
       "      <td>...</td>\n",
       "      <td>6.804743</td>\n",
       "      <td>5.457854</td>\n",
       "      <td>4.581364</td>\n",
       "      <td>6.748600</td>\n",
       "      <td>6.765936</td>\n",
       "      <td>3.807291</td>\n",
       "      <td>4.110188</td>\n",
       "      <td>5.405348</td>\n",
       "      <td>4.937693</td>\n",
       "      <td>4.501830</td>\n",
       "    </tr>\n",
       "    <tr>\n",
       "      <th>2</th>\n",
       "      <td>5.446038</td>\n",
       "      <td>5.319677</td>\n",
       "      <td>5.014240</td>\n",
       "      <td>5.272361</td>\n",
       "      <td>4.591979</td>\n",
       "      <td>6.527038</td>\n",
       "      <td>5.461305</td>\n",
       "      <td>5.864774</td>\n",
       "      <td>5.079270</td>\n",
       "      <td>4.446212</td>\n",
       "      <td>...</td>\n",
       "      <td>6.895639</td>\n",
       "      <td>5.445593</td>\n",
       "      <td>4.628199</td>\n",
       "      <td>6.828483</td>\n",
       "      <td>6.846014</td>\n",
       "      <td>4.233572</td>\n",
       "      <td>4.046643</td>\n",
       "      <td>5.333839</td>\n",
       "      <td>5.043343</td>\n",
       "      <td>4.487551</td>\n",
       "    </tr>\n",
       "    <tr>\n",
       "      <th>3</th>\n",
       "      <td>5.506452</td>\n",
       "      <td>5.285071</td>\n",
       "      <td>5.183730</td>\n",
       "      <td>5.153441</td>\n",
       "      <td>4.728660</td>\n",
       "      <td>6.673994</td>\n",
       "      <td>5.486157</td>\n",
       "      <td>6.067765</td>\n",
       "      <td>4.964940</td>\n",
       "      <td>4.436482</td>\n",
       "      <td>...</td>\n",
       "      <td>6.891433</td>\n",
       "      <td>5.291183</td>\n",
       "      <td>4.557228</td>\n",
       "      <td>6.781508</td>\n",
       "      <td>7.081982</td>\n",
       "      <td>4.358607</td>\n",
       "      <td>4.272387</td>\n",
       "      <td>5.389961</td>\n",
       "      <td>5.042652</td>\n",
       "      <td>4.514949</td>\n",
       "    </tr>\n",
       "    <tr>\n",
       "      <th>4</th>\n",
       "      <td>5.442662</td>\n",
       "      <td>5.255823</td>\n",
       "      <td>5.081373</td>\n",
       "      <td>5.165067</td>\n",
       "      <td>4.661383</td>\n",
       "      <td>6.635897</td>\n",
       "      <td>5.468312</td>\n",
       "      <td>6.229552</td>\n",
       "      <td>4.982456</td>\n",
       "      <td>4.379136</td>\n",
       "      <td>...</td>\n",
       "      <td>6.848321</td>\n",
       "      <td>5.396877</td>\n",
       "      <td>4.482208</td>\n",
       "      <td>6.805424</td>\n",
       "      <td>6.984176</td>\n",
       "      <td>4.287492</td>\n",
       "      <td>4.191528</td>\n",
       "      <td>5.367669</td>\n",
       "      <td>4.881224</td>\n",
       "      <td>4.410087</td>\n",
       "    </tr>\n",
       "  </tbody>\n",
       "</table>\n",
       "<p>4 rows × 67 columns</p>\n",
       "</div>"
      ],
      "text/plain": [
       "                 a                                                       \\\n",
       "i      Apple juice    Apples Beans, peas, legumes Beef, excludes ground   \n",
       "t    m                                                                    \n",
       "2013 1    5.559769  5.233387             5.122763              5.088013   \n",
       "     2    5.446038  5.319677             5.014240              5.272361   \n",
       "     3    5.506452  5.285071             5.183730              5.153441   \n",
       "     4    5.442662  5.255823             5.081373              5.165067   \n",
       "\n",
       "                                                                \\\n",
       "i      Biscuits, muffins, quick breads Bottled water   Burgers   \n",
       "t    m                                                           \n",
       "2013 1                        4.681985      6.697891  5.308516   \n",
       "     2                        4.591979      6.527038  5.461305   \n",
       "     3                        4.728660      6.673994  5.486157   \n",
       "     4                        4.661383      6.635897  5.468312   \n",
       "\n",
       "                                                                     \\\n",
       "i      Burritos and tacos Cakes and pies Candy containing chocolate   \n",
       "t    m                                                                \n",
       "2013 1           6.024735       4.968167                   4.401958   \n",
       "     2           5.864774       5.079270                   4.446212   \n",
       "     3           6.067765       4.964940                   4.436482   \n",
       "     4           6.229552       4.982456                   4.379136   \n",
       "\n",
       "           ...                                \\\n",
       "i          ...      Sports and energy drinks   \n",
       "t    m     ...                                 \n",
       "2013 1     ...                      6.804743   \n",
       "     2     ...                      6.895639   \n",
       "     3     ...                      6.891433   \n",
       "     4     ...                      6.848321   \n",
       "\n",
       "                                                                               \\\n",
       "i      Stir-fry and soy-based sauce mixtures String beans Tap water       Tea   \n",
       "t    m                                                                          \n",
       "2013 1                              5.457854     4.581364  6.748600  6.765936   \n",
       "     2                              5.445593     4.628199  6.828483  6.846014   \n",
       "     3                              5.291183     4.557228  6.781508  7.081982   \n",
       "     4                              5.396877     4.482208  6.805424  6.984176   \n",
       "\n",
       "                                                                \\\n",
       "i      Tomato-based condiments Tortilla, corn, and other chips   \n",
       "t    m                                                           \n",
       "2013 1                3.807291                        4.110188   \n",
       "     2                4.233572                        4.046643   \n",
       "     3                4.358607                        4.272387   \n",
       "     4                4.287492                        4.191528   \n",
       "\n",
       "                                                                            \n",
       "i      Vegetable mixed dishes White potatoes, baked or boiled Yeast breads  \n",
       "t    m                                                                      \n",
       "2013 1               5.405348                        4.937693     4.501830  \n",
       "     2               5.333839                        5.043343     4.487551  \n",
       "     3               5.389961                        5.042652     4.514949  \n",
       "     4               5.367669                        4.881224     4.410087  \n",
       "\n",
       "[4 rows x 67 columns]"
      ]
     },
     "execution_count": 1171,
     "metadata": {},
     "output_type": "execute_result"
    }
   ],
   "source": [
    "result.a.to_dataframe().unstack('i').head()"
   ]
  },
  {
   "cell_type": "code",
   "execution_count": 1172,
   "metadata": {},
   "outputs": [
    {
     "data": {
      "text/html": [
       "<div>\n",
       "<style scoped>\n",
       "    .dataframe tbody tr th:only-of-type {\n",
       "        vertical-align: middle;\n",
       "    }\n",
       "\n",
       "    .dataframe tbody tr th {\n",
       "        vertical-align: top;\n",
       "    }\n",
       "\n",
       "    .dataframe thead th {\n",
       "        text-align: right;\n",
       "    }\n",
       "</style>\n",
       "<table border=\"1\" class=\"dataframe\">\n",
       "  <thead>\n",
       "    <tr style=\"text-align: right;\">\n",
       "      <th></th>\n",
       "      <th>m</th>\n",
       "      <th>t</th>\n",
       "      <th>prices</th>\n",
       "    </tr>\n",
       "    <tr>\n",
       "      <th>i</th>\n",
       "      <th></th>\n",
       "      <th></th>\n",
       "      <th></th>\n",
       "    </tr>\n",
       "  </thead>\n",
       "  <tbody>\n",
       "    <tr>\n",
       "      <th>Apple juice</th>\n",
       "      <td>1</td>\n",
       "      <td>2013</td>\n",
       "      <td>2.00</td>\n",
       "    </tr>\n",
       "    <tr>\n",
       "      <th>Apples</th>\n",
       "      <td>1</td>\n",
       "      <td>2013</td>\n",
       "      <td>4.10</td>\n",
       "    </tr>\n",
       "    <tr>\n",
       "      <th>Beans, peas, legumes</th>\n",
       "      <td>1</td>\n",
       "      <td>2013</td>\n",
       "      <td>5.90</td>\n",
       "    </tr>\n",
       "    <tr>\n",
       "      <th>Beef, excludes ground</th>\n",
       "      <td>1</td>\n",
       "      <td>2013</td>\n",
       "      <td>17.97</td>\n",
       "    </tr>\n",
       "    <tr>\n",
       "      <th>Biscuits, muffins, quick breads</th>\n",
       "      <td>1</td>\n",
       "      <td>2013</td>\n",
       "      <td>5.19</td>\n",
       "    </tr>\n",
       "  </tbody>\n",
       "</table>\n",
       "</div>"
      ],
      "text/plain": [
       "                                 m     t  prices\n",
       "i                                               \n",
       "Apple juice                      1  2013    2.00\n",
       "Apples                           1  2013    4.10\n",
       "Beans, peas, legumes             1  2013    5.90\n",
       "Beef, excludes ground            1  2013   17.97\n",
       "Biscuits, muffins, quick breads  1  2013    5.19"
      ]
     },
     "execution_count": 1172,
     "metadata": {},
     "output_type": "execute_result"
    }
   ],
   "source": [
    "p = result.prices.sel(t=2013, m=1).copy()\n",
    "\n",
    "p.to_dataframe().squeeze().head()"
   ]
  },
  {
   "cell_type": "code",
   "execution_count": 1173,
   "metadata": {},
   "outputs": [
    {
     "data": {
      "text/plain": [
       "i\n",
       "Apple juice                        0.501023\n",
       "Apples                             0.259174\n",
       "Beans, peas, legumes               0.017554\n",
       "Beef, excludes ground              0.006867\n",
       "Biscuits, muffins, quick breads    0.083389\n",
       "Name: quantities, dtype: float64"
      ]
     },
     "execution_count": 1173,
     "metadata": {},
     "output_type": "execute_result"
    }
   ],
   "source": [
    "x=50\n",
    "\n",
    "result.demands(x,p).head()"
   ]
  },
  {
   "cell_type": "markdown",
   "metadata": {},
   "source": [
    "## Demand Systems"
   ]
  },
  {
   "cell_type": "markdown",
   "metadata": {},
   "source": [
    "We grouped all of the items by certain characteristics for later analysis. We considered more typically health and unhealthy options to see the effects of subsidizing and taxing both. Additionally, an extra focus was put on dairy later as our group had low amounts of Vitamin D and Calcium."
   ]
  },
  {
   "cell_type": "code",
   "execution_count": 1174,
   "metadata": {},
   "outputs": [],
   "source": [
    "dairy = ['Milk, whole', 'Milk, reduced fat', 'Milk, low fat', 'Milk, non fat', 'Flavored milk,whole', 'Flavored milk, reduced fat', 'Flavored milk, low fat', 'Milk shakes and other dairy drinks', 'Milk substitues', 'Cheese', 'Cottage/ricotta cheese', 'Yogurt, whole and reduced fat', 'Yogurt, low-fat and nonfat']\n",
    "meat = ['Beef, excludes ground', 'Ground beef', 'Pork', 'Lamb, goat, game', 'Liver and organ meats', 'Chicken, whole pieces', 'Chicken patties, nuggets and tenders', 'Turkey, duck, and other poultry', 'Fish', 'Shellfish', 'Cold cuts and cured meats', 'Bacon', 'Frankfurters', 'Sausages', 'Meat mixed dishes', 'Poultry mixed dishes', 'Seafood mixed dishes']\n",
    "unhealthy_meals = ['Egg rolls, dumplings, sushi', 'Burritos and tacos', 'Nachos', 'Other mexican mixed dishes', 'Pizza', 'Burgers', 'Frankfurter sandwiches', 'Chicken/turkey sandwiches', 'Egg/breakfast sandwiches', 'Other sandwiches']\n",
    "grains = ['Rice', 'Pasta, noodles, cooked grains', 'Yeast breads', 'Rolls and buns', 'Bagels and English muffins',' Tortillas', 'Biscuits, muffins, quick breads', 'Pancakes, waffles, French Toast', 'Ready to eat cereal, higher sugar', 'Ready-to-eat cereal, lower sugar', 'Oatmeal', 'Grits and other cooked cereals']\n",
    "unhealthy_snacks = ['Potato chips', 'Tortilla, corn, and other chips', 'Popcorn', 'Pretzels / snack mix', 'Crackers, excludes saltines', 'Saltine crackers', 'Cereal bars', 'Nutrition bars', 'Cakes and pies', 'Cookies and brownies', 'Doughnuts, sweet rolls, pastries', 'Candy containing chocolate', 'Candy not containing chocolate', 'Ice cream and frozen dairy desserts', 'Pudding', 'Gelatins, ices, sorbets', 'French fries and other fried potatoes']\n",
    "fruits = ['Apples', 'Bananas', 'Grapes', 'Peaches and nectraines', 'Berries', 'Citrus fruits', 'Melons', 'Dried fruits', 'Other fruits and fruit salads', 'Tomatoes']\n",
    "vegetables = ['Carrots', 'Other red and orange vegetables', 'Dark green vegetables, excludes lettuce', 'Lettuce and lettuce salads', 'String beans', 'Onions', 'Corn', 'Other starchy vegetables', 'Other vegetables and combinations', 'Vegetable mixed dishes', 'White potatoes, baked or boiled']\n",
    "fruits_and_vegetables = fruits.copy()\n",
    "fruits_and_vegetables.extend(vegetables.copy())"
   ]
  },
  {
   "cell_type": "markdown",
   "metadata": {},
   "source": [
    "### Soft Drinks\n",
    "One notably unhealthy option is soft drinks and thus we considered how the demand of soft drinks differed based on the South vs the West as there are historic eating differences between the two regions."
   ]
  },
  {
   "cell_type": "code",
   "execution_count": 1175,
   "metadata": {},
   "outputs": [
    {
     "data": {
      "text/plain": [
       "Text(0,0.5,'Price')"
      ]
     },
     "execution_count": 1175,
     "metadata": {},
     "output_type": "execute_result"
    },
    {
     "data": {
      "image/png": "[encoded data removed]",
      "text/plain": [
       "<Figure size 432x288 with 1 Axes>"
      ]
     },
     "metadata": {},
     "output_type": "display_data"
    }
   ],
   "source": [
    "#West\n",
    "import numpy as np\n",
    "import matplotlib.pyplot as plt\n",
    "%matplotlib inline\n",
    "\n",
    "P = np.linspace(0.1,10,10)\n",
    "\n",
    "def my_prices(p0,p=p):\n",
    "    p = p.copy()\n",
    "    p.loc['Soft drinks'] = p0\n",
    "    return p\n",
    "\n",
    "for x in [10,20,40,80,160]:\n",
    "    plt.plot([south.demands(x,my_prices(p0))['Soft drinks'] for p0 in P],P)\n",
    "\n",
    "plt.xlabel('Soft drinks')\n",
    "plt.ylabel('Price')"
   ]
  },
  {
   "cell_type": "code",
   "execution_count": 1176,
   "metadata": {},
   "outputs": [
    {
     "data": {
      "text/plain": [
       "Text(0,0.5,'Price')"
      ]
     },
     "execution_count": 1176,
     "metadata": {},
     "output_type": "execute_result"
    },
    {
     "data": {
      "image/png": "[encoded data removed]",
      "text/plain": [
       "<Figure size 432x288 with 1 Axes>"
      ]
     },
     "metadata": {},
     "output_type": "display_data"
    }
   ],
   "source": [
    "#South\n",
    "import numpy as np\n",
    "import matplotlib.pyplot as plt\n",
    "%matplotlib inline\n",
    "\n",
    "P = np.linspace(0.1,10,50)\n",
    "\n",
    "def my_prices(p0,p=p):\n",
    "    p = p.copy()\n",
    "    p.loc['Soft drinks'] = p0\n",
    "    return p\n",
    "\n",
    "for x in [10,20,40,80,160]:\n",
    "    plt.plot([west.demands(x,my_prices(p0))['Soft drinks'] for p0 in P],P)\n",
    "\n",
    "plt.xlabel('Soft drinks')\n",
    "plt.ylabel('Price')"
   ]
  },
  {
   "cell_type": "markdown",
   "metadata": {},
   "source": [
    "### Unhealthy Snacks\n",
    "Additoinaly we looked at the demand differences for typically unhealthy snacks as we believed there may be a vast difference in these two regions that could be useful for analysis."
   ]
  },
  {
   "cell_type": "code",
   "execution_count": 1177,
   "metadata": {},
   "outputs": [
    {
     "data": {
      "text/plain": [
       "Text(0,0.5,'Price')"
      ]
     },
     "execution_count": 1177,
     "metadata": {},
     "output_type": "execute_result"
    },
    {
     "data": {
      "image/png": "[encoded data removed]",
      "text/plain": [
       "<Figure size 432x288 with 1 Axes>"
      ]
     },
     "metadata": {},
     "output_type": "display_data"
    }
   ],
   "source": [
    "#South\n",
    "import numpy as np\n",
    "import matplotlib.pyplot as plt\n",
    "%matplotlib inline\n",
    "\n",
    "P = np.linspace(0.1,10,50)\n",
    "\n",
    "goods = unhealthy_snacks\n",
    "\n",
    "def my_prices_list(scale,goods = [\"Bananas\"], p=p):\n",
    "    p = p.copy()\n",
    "    for i in goods:\n",
    "        try:\n",
    "            p.loc[i] = scale * p.loc[i]\n",
    "        except:\n",
    "            continue\n",
    "    return p\n",
    "\n",
    "for x in [10,20,40,80,160]:\n",
    "    plt.plot([np.sum(south.demands(x,my_prices_list(p0, goods))[goods])for p0 in P],P)\n",
    "\n",
    "plt.xlabel('Unhealthy Snacks')\n",
    "plt.ylabel('Price')"
   ]
  },
  {
   "cell_type": "code",
   "execution_count": 1178,
   "metadata": {},
   "outputs": [
    {
     "data": {
      "text/plain": [
       "Text(0,0.5,'Price')"
      ]
     },
     "execution_count": 1178,
     "metadata": {},
     "output_type": "execute_result"
    },
    {
     "data": {
      "image/png": "[encoded data removed]",
      "text/plain": [
       "<Figure size 432x288 with 1 Axes>"
      ]
     },
     "metadata": {},
     "output_type": "display_data"
    }
   ],
   "source": [
    "#West\n",
    "import numpy as np\n",
    "import matplotlib.pyplot as plt\n",
    "%matplotlib inline\n",
    "\n",
    "P = np.linspace(0.1,10,50)\n",
    "\n",
    "goods = unhealthy_snacks\n",
    "\n",
    "def my_prices_list(scale,goods = [\"Bananas\"], p=p):\n",
    "    p = p.copy()\n",
    "    for i in goods:\n",
    "        try:\n",
    "            p.loc[i] = scale * p.loc[i]\n",
    "        except:\n",
    "            continue\n",
    "    return p\n",
    "\n",
    "for x in [10,20,40,80,160]:\n",
    "    plt.plot([np.sum(west.demands(x,my_prices_list(p0, goods))[goods])for p0 in P],P)\n",
    "\n",
    "plt.xlabel('Unhealthy Snacks')\n",
    "plt.ylabel('Price')"
   ]
  },
  {
   "cell_type": "markdown",
   "metadata": {},
   "source": [
    "### Fruits and Vegetables\n",
    "As a healthier option we analyzed all the fruits and vegetables for the demand systems as to see how the two differed in healthier choice preferances."
   ]
  },
  {
   "cell_type": "code",
   "execution_count": 1179,
   "metadata": {},
   "outputs": [
    {
     "data": {
      "text/plain": [
       "Text(0,0.5,'Price')"
      ]
     },
     "execution_count": 1179,
     "metadata": {},
     "output_type": "execute_result"
    },
    {
     "data": {
      "image/png": "[encoded data removed]",
      "text/plain": [
       "<Figure size 432x288 with 1 Axes>"
      ]
     },
     "metadata": {},
     "output_type": "display_data"
    }
   ],
   "source": [
    "import numpy as np\n",
    "import matplotlib.pyplot as plt\n",
    "%matplotlib inline\n",
    "\n",
    "P = np.linspace(0.1,10,50)\n",
    "\n",
    "goods = fruits_and_vegetables\n",
    "\n",
    "def my_prices_list(scale,goods = [\"Bananas\"], p=p):\n",
    "    p = p.copy()\n",
    "    for i in goods:\n",
    "        try:\n",
    "            p.loc[i] = scale * p.loc[i]\n",
    "        except:\n",
    "            continue\n",
    "    return p\n",
    "\n",
    "for x in [10,20,40,80,100]:\n",
    "    plt.plot([np.sum(south.demands(x,my_prices_list(p0, goods))[goods])for p0 in P],P)\n",
    "\n",
    "plt.xlabel('Fruits and Vegetables')\n",
    "plt.ylabel('Price')"
   ]
  },
  {
   "cell_type": "code",
   "execution_count": 1183,
   "metadata": {},
   "outputs": [
    {
     "data": {
      "text/plain": [
       "Text(0,0.5,'Price')"
      ]
     },
     "execution_count": 1183,
     "metadata": {},
     "output_type": "execute_result"
    },
    {
     "data": {
      "image/png": "[encoded data removed]",
      "text/plain": [
       "<Figure size 432x288 with 1 Axes>"
      ]
     },
     "metadata": {},
     "output_type": "display_data"
    }
   ],
   "source": [
    "import numpy as np\n",
    "import matplotlib.pyplot as plt\n",
    "%matplotlib inline\n",
    "\n",
    "P = np.linspace(0.1,10,50)\n",
    "\n",
    "goods = fruits_and_vegetables\n",
    "\n",
    "def my_prices_list(scale,goods = [\"Bananas\"], p=p):\n",
    "    p = p.copy()\n",
    "    for i in goods:\n",
    "        try:\n",
    "            p.loc[i] = scale * p.loc[i]\n",
    "        except:\n",
    "            continue\n",
    "    return p\n",
    "\n",
    "for x in [10,20,40,80,100]:\n",
    "    plt.plot([np.sum(west.demands(x,my_prices_list(p0, goods))[goods])for p0 in P],P)\n",
    "\n",
    "plt.xlabel('Fruits and Vegetables')\n",
    "plt.ylabel('Price')"
   ]
  },
  {
   "cell_type": "markdown",
   "metadata": {},
   "source": [
    "## Mapping to Nutrients"
   ]
  },
  {
   "cell_type": "markdown",
   "metadata": {},
   "source": [
    "This section maps the items to the nutrient value to be put into the demand system."
   ]
  },
  {
   "cell_type": "code",
   "execution_count": 1185,
   "metadata": {},
   "outputs": [],
   "source": [
    "c =result.demands(x,p)"
   ]
  },
  {
   "cell_type": "code",
   "execution_count": 1186,
   "metadata": {},
   "outputs": [],
   "source": [
    "fct = D.transpose()\n",
    "fct.index.name = \"Item name\"\n",
    "fct = fct.fillna(0)"
   ]
  },
  {
   "cell_type": "code",
   "execution_count": 1187,
   "metadata": {},
   "outputs": [],
   "source": [
    "# Index of fct includes names of goods and also units.  Drop the latter:\n",
    "try:\n",
    "    fct.index = fct.index.droplevel('unit')\n",
    "except AttributeError: pass # not a multiindex?\n",
    "\n",
    "# Create a new FCT and vector of consumption that only share rows in common:\n",
    "fct0,c0 = fct.align(c,axis=0,join='inner')"
   ]
  },
  {
   "cell_type": "markdown",
   "metadata": {},
   "source": [
    "We use the diet minimums from the minimum cost diet to create the thresholds. And for the various boy,girl / man,woman we use the nutrition values of 9 - 13 year olds for the children ad 31 - 50 years old for the adults."
   ]
  },
  {
   "cell_type": "code",
   "execution_count": 1188,
   "metadata": {},
   "outputs": [],
   "source": [
    "rda = pd.read_csv('./diet_minimums.csv').copy()\n",
    "rda = rda[[\"Nutrition\", \"M 9-13\", \"F 9-13\", \"M 31-50\", \"F 31-50\"]]\n",
    "rda = rda.set_index(\"Nutrition\")"
   ]
  },
  {
   "cell_type": "markdown",
   "metadata": {},
   "source": [
    "We next create the nutritional demand systems based off of nutrient values"
   ]
  },
  {
   "cell_type": "code",
   "execution_count": 1190,
   "metadata": {},
   "outputs": [],
   "source": [
    "import cfe\n",
    "import pandas as pd\n",
    "import matplotlib.pyplot as plt\n",
    "\n",
    "r=result\n",
    "USE_GOOD = 'Milk, low fat' \n",
    "# Use prices, distribution of budgets from first round, first market:\n",
    "t = r.firstround  # First round\n",
    "m = r.coords['m'][0] # First market\n",
    "\n",
    "# Distribution of predicted total expenditures\n",
    "xhat = r.get_predicted_expenditures().sum('i')\n",
    "xhat = xhat.where(xhat>0,np.nan)\n",
    "\n",
    "# Note selection of prices for first period and first market\n",
    "p = r.prices.sel(t=t,m=m).fillna(1).copy()\n",
    "\n",
    "def my_prices(p0,p=p,i=USE_GOOD):\n",
    "    p = p.copy()\n",
    "    p.loc[i] = p0\n",
    "    return p\n",
    "\n",
    "\n",
    "def nutrient_demand(x,p,r):\n",
    "    c = r.demands(x,p)\n",
    "    fct0,c0 = fct.align(c,axis=0,join='inner')\n",
    "    N = fct0.T@c0\n",
    "\n",
    "    return N\n",
    "\n",
    "# In first round, averaged over households and villages\n",
    "zbar = r.z.sel(t=r.firstround).mean(['j','m'])[:-1] # Leave out log HSize\n",
    "\n",
    "# This matrix product gives minimum nutrient requirements for average\n",
    "# household in first round\n",
    "hh_rda = rda.replace('',0)@zbar\n",
    "\n",
    "def nutrient_adequacy_ratio(x,p,r):\n",
    "    return nutrient_demand(x,p,r)/hh_rda"
   ]
  },
  {
   "cell_type": "markdown",
   "metadata": {},
   "source": [
    "This maps the amount of each of five key nutrients households are getting based on the budget. This is also broken down into all regions, west and south in order to see potential regional differences."
   ]
  },
  {
   "cell_type": "code",
   "execution_count": 1191,
   "metadata": {},
   "outputs": [
    {
     "data": {
      "text/plain": [
       "Text(0,0.5,'log nutrient')"
      ]
     },
     "execution_count": 1191,
     "metadata": {},
     "output_type": "execute_result"
    },
    {
     "data": {
      "image/png": "[encoded data removed]",
      "text/plain": [
       "<Figure size 432x288 with 1 Axes>"
      ]
     },
     "metadata": {},
     "output_type": "display_data"
    }
   ],
   "source": [
    "import numpy as np\n",
    "import matplotlib.pyplot as plt\n",
    "X = np.linspace(1,200,50)\n",
    "\n",
    "UseNutrients = ['Energy', 'Protein', 'Calcium, Ca','Iron, Fe', 'Vitamin D']\n",
    "\n",
    "plt.plot(X,pd.concat({x:np.log(nutrient_demand(x,p,result))[UseNutrients] for x in X},axis=1).T)\n",
    "plt.legend(UseNutrients)\n",
    "plt.xlabel('log budget')\n",
    "plt.ylabel('log nutrient')"
   ]
  },
  {
   "cell_type": "code",
   "execution_count": 1192,
   "metadata": {},
   "outputs": [
    {
     "data": {
      "text/plain": [
       "Text(0,0.5,'log nutrient')"
      ]
     },
     "execution_count": 1192,
     "metadata": {},
     "output_type": "execute_result"
    },
    {
     "data": {
      "image/png": "[encoded data removed]",
      "text/plain": [
       "<Figure size 432x288 with 1 Axes>"
      ]
     },
     "metadata": {},
     "output_type": "display_data"
    }
   ],
   "source": [
    "import numpy as np\n",
    "import matplotlib.pyplot as plt\n",
    "X = np.linspace(1,200,50)\n",
    "\n",
    "UseNutrients = ['Energy', 'Protein', 'Calcium, Ca','Iron, Fe', 'Vitamin D']\n",
    "\n",
    "plt.plot(X,pd.concat({x:np.log(nutrient_demand(x,p,south))[UseNutrients] for x in X},axis=1).T)\n",
    "plt.legend(UseNutrients)\n",
    "plt.xlabel('log budget')\n",
    "plt.ylabel('log nutrient')"
   ]
  },
  {
   "cell_type": "code",
   "execution_count": 1193,
   "metadata": {},
   "outputs": [
    {
     "data": {
      "text/plain": [
       "Text(0,0.5,'log nutrient')"
      ]
     },
     "execution_count": 1193,
     "metadata": {},
     "output_type": "execute_result"
    },
    {
     "data": {
      "image/png": "[encoded data removed]",
      "text/plain": [
       "<Figure size 432x288 with 1 Axes>"
      ]
     },
     "metadata": {},
     "output_type": "display_data"
    }
   ],
   "source": [
    "import numpy as np\n",
    "import matplotlib.pyplot as plt\n",
    "X = np.linspace(1,200,50)\n",
    "\n",
    "UseNutrients = ['Energy', 'Protein', 'Calcium, Ca','Iron, Fe', 'Vitamin D']\n",
    "\n",
    "plt.plot(X,pd.concat({x:np.log(nutrient_demand(x,p,west))[UseNutrients] for x in X},axis=1).T)\n",
    "plt.legend(UseNutrients)\n",
    "plt.xlabel('log budget')\n",
    "plt.ylabel('log nutrient')"
   ]
  },
  {
   "cell_type": "markdown",
   "metadata": {},
   "source": [
    "## Effect of Change in Dairy Prices\n",
    "We aimed to see the affect that raising all dairy prices would have on the overall nutrition. Given the many food alternatives, certain aspects are unchanged but we see Calcium and Vitamin D have huge impacts"
   ]
  },
  {
   "cell_type": "code",
   "execution_count": 1195,
   "metadata": {},
   "outputs": [
    {
     "data": {
      "text/plain": [
       "Text(0,0.5,'log nutrient')"
      ]
     },
     "execution_count": 1195,
     "metadata": {},
     "output_type": "execute_result"
    },
    {
     "data": {
      "image/png": "[encoded data removed]",
      "text/plain": [
       "<Figure size 432x288 with 1 Axes>"
      ]
     },
     "metadata": {},
     "output_type": "display_data"
    }
   ],
   "source": [
    "P = np.linspace(.1,10,50)\n",
    "\n",
    "x = 500\n",
    "\n",
    "plt.plot(P,pd.concat({p0:np.log(nutrient_demand(x,my_prices_list(p0,goods=dairy), result))[UseNutrients] for p0 in P},axis=1).T)\n",
    "plt.legend(UseNutrients)\n",
    "plt.xlabel('log price')\n",
    "plt.ylabel('log nutrient')"
   ]
  },
  {
   "cell_type": "markdown",
   "metadata": {},
   "source": [
    "## Household Nutritional Requirements"
   ]
  },
  {
   "cell_type": "markdown",
   "metadata": {},
   "source": [
    "This aims to see whether households meet nutritional thresholds and if not what aspects are not being hit."
   ]
  },
  {
   "cell_type": "code",
   "execution_count": 1196,
   "metadata": {},
   "outputs": [],
   "source": [
    "# A quantile of 0.5 is the median.  Play with quantile value, or just assign.\n",
    "x0 = xhat.sel(t=t,m=m).quantile(0.01,'j') # Budget (median household)\n",
    "x0 = 100"
   ]
  },
  {
   "cell_type": "markdown",
   "metadata": {},
   "source": [
    "## All Regions"
   ]
  },
  {
   "cell_type": "code",
   "execution_count": 1197,
   "metadata": {},
   "outputs": [
    {
     "data": {
      "text/plain": [
       "<matplotlib.lines.Line2D at 0x1c57f0f518>"
      ]
     },
     "execution_count": 1197,
     "metadata": {},
     "output_type": "execute_result"
    },
    {
     "data": {
      "image/png": "[encoded data removed]",
      "text/plain": [
       "<Figure size 432x288 with 1 Axes>"
      ]
     },
     "metadata": {},
     "output_type": "display_data"
    }
   ],
   "source": [
    "import matplotlib.pyplot as plt\n",
    "import numpy as np\n",
    "\n",
    "X = np.linspace(x0/10,x0*5,50)\n",
    "\n",
    "UseNutrients = ['Energy', 'Protein', 'Calcium, Ca','Iron, Fe', 'Vitamin D']\n",
    "\n",
    "plt.plot(X,pd.concat({x:np.log(nutrient_adequacy_ratio(x,p, result))[UseNutrients] for x in X},axis=1).T)\n",
    "plt.legend(UseNutrients)\n",
    "plt.xlabel('Budget')\n",
    "plt.ylabel('log nutrient adequacy ratio')\n",
    "plt.axhline(0)\n",
    "plt.axvline(x0)"
   ]
  },
  {
   "cell_type": "markdown",
   "metadata": {},
   "source": [
    "## South"
   ]
  },
  {
   "cell_type": "code",
   "execution_count": 1198,
   "metadata": {},
   "outputs": [
    {
     "data": {
      "text/plain": [
       "<matplotlib.lines.Line2D at 0x1c5310a978>"
      ]
     },
     "execution_count": 1198,
     "metadata": {},
     "output_type": "execute_result"
    },
    {
     "data": {
      "image/png": "[encoded data removed]",
      "text/plain": [
       "<Figure size 432x288 with 1 Axes>"
      ]
     },
     "metadata": {},
     "output_type": "display_data"
    }
   ],
   "source": [
    "import matplotlib.pyplot as plt\n",
    "import numpy as np\n",
    "\n",
    "X = np.linspace(x0/10,x0*5,50)\n",
    "\n",
    "UseNutrients = ['Energy', 'Protein', 'Calcium, Ca','Iron, Fe', 'Vitamin D']\n",
    "\n",
    "plt.plot(X,pd.concat({x:np.log(nutrient_adequacy_ratio(x,p, south))[UseNutrients] for x in X},axis=1).T)\n",
    "plt.legend(UseNutrients)\n",
    "plt.xlabel('Budget')\n",
    "plt.ylabel('log nutrient adequacy ratio')\n",
    "plt.axhline(0)\n",
    "plt.axvline(x0)"
   ]
  },
  {
   "cell_type": "markdown",
   "metadata": {},
   "source": [
    "## West"
   ]
  },
  {
   "cell_type": "code",
   "execution_count": 1200,
   "metadata": {},
   "outputs": [
    {
     "data": {
      "text/plain": [
       "<matplotlib.lines.Line2D at 0x1c51619048>"
      ]
     },
     "execution_count": 1200,
     "metadata": {},
     "output_type": "execute_result"
    },
    {
     "data": {
      "image/png": "[encoded data removed]",
      "text/plain": [
       "<Figure size 432x288 with 1 Axes>"
      ]
     },
     "metadata": {},
     "output_type": "display_data"
    }
   ],
   "source": [
    "import matplotlib.pyplot as plt\n",
    "import numpy as np\n",
    "\n",
    "X = np.linspace(x0/10,x0*5,50)\n",
    "\n",
    "UseNutrients = ['Energy', 'Protein', 'Calcium, Ca','Iron, Fe', 'Vitamin D']\n",
    "\n",
    "plt.plot(X,pd.concat({x:np.log(nutrient_adequacy_ratio(x,p, west))[UseNutrients] for x in X},axis=1).T)\n",
    "plt.legend(UseNutrients)\n",
    "plt.xlabel('Budget')\n",
    "plt.ylabel('log nutrient adequacy ratio')\n",
    "plt.axhline(0)\n",
    "plt.axvline(x0)"
   ]
  },
  {
   "cell_type": "markdown",
   "metadata": {},
   "source": [
    "## Compensated Policy Experiment"
   ]
  },
  {
   "cell_type": "markdown",
   "metadata": {},
   "source": [
    "This section looks at the Hicksian and Marshallian demand systems for a specific food – in this case apples. This is replicable with any food from our list and can be used to find the compensating variation."
   ]
  },
  {
   "cell_type": "code",
   "execution_count": 1201,
   "metadata": {},
   "outputs": [
    {
     "data": {
      "text/plain": [
       "<matplotlib.legend.Legend at 0x104ef14dd8>"
      ]
     },
     "execution_count": 1201,
     "metadata": {},
     "output_type": "execute_result"
    },
    {
     "data": {
      "image/png": "[encoded data removed]",
      "text/plain": [
       "<Figure size 432x288 with 1 Axes>"
      ]
     },
     "metadata": {},
     "output_type": "display_data"
    }
   ],
   "source": [
    "P = np.linspace(ref_price/20,ref_price*10,50)\n",
    "\n",
    "U0 = cfe.demands.marshallian.indirect_utility(x0,p,np.exp(r.alpha),r.beta,0)\n",
    "\n",
    "plt.plot([r.demands(poorer_x,my_prices(p0,i=\"Apples\"))[\"Apples\"] for p0 in P],P)\n",
    "plt.plot([r.demands(poorer_x,my_prices(p0,i=\"Apples\"),type=\"Hicksian\")[\"Apples\"] for p0 in P],P)\n",
    "plt.ylabel('Price')\n",
    "plt.xlabel(\"Apples\")\n",
    "plt.axhline(p.sel(i=\"Apples\").values)\n",
    "plt.legend((\"Marshallian\",\"Hicksian\"))"
   ]
  },
  {
   "cell_type": "code",
   "execution_count": 1202,
   "metadata": {},
   "outputs": [
    {
     "data": {
      "text/plain": [
       "-4.242611369150083"
      ]
     },
     "execution_count": 1202,
     "metadata": {},
     "output_type": "execute_result"
    }
   ],
   "source": [
    "def compensating_variation(U0,p0,p1):\n",
    "    x0 = cfe.demands.hicksian.expenditurefunction(U0,p0,np.exp(r.alpha),r.beta,0)\n",
    "    x1 = cfe.demands.hicksian.expenditurefunction(U0,p1,np.exp(r.alpha),r.beta,0)\n",
    "\n",
    "    return x1-x0\n",
    "\n",
    "compensating_variation(U0,p,my_prices(1))"
   ]
  },
  {
   "cell_type": "markdown",
   "metadata": {},
   "source": [
    "## Subsidizing Dairy to  Meet Vitamin D requirements"
   ]
  },
  {
   "cell_type": "markdown",
   "metadata": {},
   "source": [
    "An idea we had was to subsidize dairy to hopefully meet vitamin D requirements. We estabalished a 73% subsidy on dairy and saw dramatic improvements but still did not fully meet thresholds for nutrition."
   ]
  },
  {
   "cell_type": "markdown",
   "metadata": {},
   "source": [
    "#### 73% Subsidy Nutritional Adaquecy"
   ]
  },
  {
   "cell_type": "code",
   "execution_count": 1001,
   "metadata": {},
   "outputs": [
    {
     "data": {
      "text/plain": [
       "<matplotlib.lines.Line2D at 0x104ba45470>"
      ]
     },
     "execution_count": 1001,
     "metadata": {},
     "output_type": "execute_result"
    },
    {
     "data": {
      "image/png": "[encoded data removed]",
      "text/plain": [
       "<Figure size 432x288 with 1 Axes>"
      ]
     },
     "metadata": {},
     "output_type": "display_data"
    }
   ],
   "source": [
    "import matplotlib.pyplot as plt\n",
    "import numpy as np\n",
    "\n",
    "X = np.linspace(x0/10,x0*5,50)\n",
    "\n",
    "UseNutrients = ['Calcium, Ca', 'Vitamin D']\n",
    "\n",
    "def my_prices_list(scale,goods = [\"Bananas\"], p=p):\n",
    "    p = p.copy()\n",
    "    for i in goods:\n",
    "        try:\n",
    "            p.loc[i] = scale * p.loc[i]\n",
    "        except:\n",
    "            continue\n",
    "    return p\n",
    "\n",
    "plt.plot(X,pd.concat({x:np.log(nutrient_adequacy_ratio(x,my_prices_list(0.27, goods=dairy), result))[UseNutrients] for x in X},axis=1).T)\n",
    "plt.legend(UseNutrients)\n",
    "plt.xlabel('Budget')\n",
    "plt.ylabel('log nutrient adequacy ratio')\n",
    "plt.axhline(0)\n",
    "plt.axvline(x0)"
   ]
  },
  {
   "cell_type": "markdown",
   "metadata": {},
   "source": [
    "#### No Subsidy Nutritional Adaquecy"
   ]
  },
  {
   "cell_type": "code",
   "execution_count": 1181,
   "metadata": {},
   "outputs": [
    {
     "data": {
      "text/plain": [
       "<matplotlib.lines.Line2D at 0x1c5489b160>"
      ]
     },
     "execution_count": 1181,
     "metadata": {},
     "output_type": "execute_result"
    },
    {
     "data": {
      "image/png": "[encoded data removed]",
      "text/plain": [
       "<Figure size 432x288 with 1 Axes>"
      ]
     },
     "metadata": {},
     "output_type": "display_data"
    }
   ],
   "source": [
    "import matplotlib.pyplot as plt\n",
    "import numpy as np\n",
    "\n",
    "X = np.linspace(x0/10,x0*5,50)\n",
    "\n",
    "UseNutrients = ['Calcium, Ca', 'Vitamin D']\n",
    "\n",
    "plt.plot(X,pd.concat({x:np.log(nutrient_adequacy_ratio(x,p, result))[UseNutrients] for x in X},axis=1).T)\n",
    "plt.legend(UseNutrients)\n",
    "plt.xlabel('Budget')\n",
    "plt.ylabel('log nutrient adequacy ratio')\n",
    "plt.axhline(0)\n",
    "plt.axvline(x0)"
   ]
  },
  {
   "cell_type": "markdown",
   "metadata": {},
   "source": [
    "## Relative Income"
   ]
  },
  {
   "cell_type": "markdown",
   "metadata": {},
   "source": [
    "We measured how an increase in relative income would affect the overall nutriential adaquecy of diets."
   ]
  },
  {
   "cell_type": "markdown",
   "metadata": {},
   "source": [
    "### Doubling Relative Income"
   ]
  },
  {
   "cell_type": "code",
   "execution_count": 1205,
   "metadata": {},
   "outputs": [
    {
     "data": {
      "text/plain": [
       "<matplotlib.lines.Line2D at 0x104b05cac8>"
      ]
     },
     "execution_count": 1205,
     "metadata": {},
     "output_type": "execute_result"
    },
    {
     "data": {
      "image/png": "[encoded data removed]",
      "text/plain": [
       "<Figure size 432x288 with 1 Axes>"
      ]
     },
     "metadata": {},
     "output_type": "display_data"
    }
   ],
   "source": [
    "import matplotlib.pyplot as plt\n",
    "import numpy as np\n",
    "\n",
    "X = np.linspace(x0/10,x0*5,50)\n",
    "\n",
    "UseNutrients = ['Energy', 'Protein', 'Calcium, Ca','Iron, Fe', 'Vitamin D']\n",
    "\n",
    "def my_prices_subsidy(scale, p=p):\n",
    "    p = p.copy()\n",
    "    p = scale * p\n",
    "    return p\n",
    "\n",
    "plt.plot(X,pd.concat({x:np.log(nutrient_adequacy_ratio(x,my_prices_subsidy(0.5), result))[UseNutrients] for x in X},axis=1).T)\n",
    "plt.legend(UseNutrients)\n",
    "plt.xlabel('Budget')\n",
    "plt.ylabel('log nutrient adequacy ratio')\n",
    "plt.axhline(0)\n",
    "plt.axvline(x0)"
   ]
  },
  {
   "cell_type": "markdown",
   "metadata": {},
   "source": [
    "### Cutting all Prices by 20%"
   ]
  },
  {
   "cell_type": "code",
   "execution_count": 1206,
   "metadata": {},
   "outputs": [
    {
     "data": {
      "text/plain": [
       "<matplotlib.lines.Line2D at 0x101f1324e0>"
      ]
     },
     "execution_count": 1206,
     "metadata": {},
     "output_type": "execute_result"
    },
    {
     "data": {
      "image/png": "[encoded data removed]",
      "text/plain": [
       "<Figure size 432x288 with 1 Axes>"
      ]
     },
     "metadata": {},
     "output_type": "display_data"
    }
   ],
   "source": [
    "import matplotlib.pyplot as plt\n",
    "import numpy as np\n",
    "\n",
    "X = np.linspace(x0/10,x0*5,50)\n",
    "\n",
    "UseNutrients = ['Energy', 'Protein', 'Calcium, Ca','Iron, Fe', 'Vitamin D']\n",
    "\n",
    "def my_prices_subsidy(scale, p=p):\n",
    "    p = p.copy()\n",
    "    p = scale * p\n",
    "    return p\n",
    "\n",
    "plt.plot(X,pd.concat({x:np.log(nutrient_adequacy_ratio(x,my_prices_subsidy(0.8), result))[UseNutrients] for x in X},axis=1).T)\n",
    "plt.legend(UseNutrients)\n",
    "plt.xlabel('Budget')\n",
    "plt.ylabel('log nutrient adequacy ratio')\n",
    "plt.axhline(0)\n",
    "plt.axvline(x0)"
   ]
  },
  {
   "cell_type": "markdown",
   "metadata": {},
   "source": [
    "### Current Nutritional Thresholds"
   ]
  },
  {
   "cell_type": "code",
   "execution_count": 1207,
   "metadata": {},
   "outputs": [
    {
     "data": {
      "text/plain": [
       "<matplotlib.lines.Line2D at 0x103b56da90>"
      ]
     },
     "execution_count": 1207,
     "metadata": {},
     "output_type": "execute_result"
    },
    {
     "data": {
      "image/png": "[encoded data removed]",
      "text/plain": [
       "<Figure size 432x288 with 1 Axes>"
      ]
     },
     "metadata": {},
     "output_type": "display_data"
    }
   ],
   "source": [
    "import matplotlib.pyplot as plt\n",
    "import numpy as np\n",
    "\n",
    "X = np.linspace(x0/10,x0*5,50)\n",
    "\n",
    "UseNutrients = ['Energy', 'Protein', 'Calcium, Ca','Iron, Fe', 'Vitamin D']\n",
    "\n",
    "\n",
    "plt.plot(X,pd.concat({x:np.log(nutrient_adequacy_ratio(x,p, result))[UseNutrients] for x in X},axis=1).T)\n",
    "plt.legend(UseNutrients)\n",
    "plt.xlabel('Budget')\n",
    "plt.ylabel('log nutrient adequacy ratio')\n",
    "plt.axhline(0)\n",
    "plt.axvline(x0)"
   ]
  },
  {
   "cell_type": "markdown",
   "metadata": {},
   "source": [
    "### Calculating Betas\n",
    "\n"
   ]
  },
  {
   "cell_type": "markdown",
   "metadata": {},
   "source": [
    "For each region we found betas of all foods to see how the food options varied based on the regions and corresponding beta values."
   ]
  },
  {
   "cell_type": "code",
   "execution_count": 1209,
   "metadata": {},
   "outputs": [
    {
     "data": {
      "text/html": [
       "<div>\n",
       "<style scoped>\n",
       "    .dataframe tbody tr th:only-of-type {\n",
       "        vertical-align: middle;\n",
       "    }\n",
       "\n",
       "    .dataframe tbody tr th {\n",
       "        vertical-align: top;\n",
       "    }\n",
       "\n",
       "    .dataframe thead th {\n",
       "        text-align: right;\n",
       "    }\n",
       "</style>\n",
       "<table border=\"1\" class=\"dataframe\">\n",
       "  <thead>\n",
       "    <tr style=\"text-align: right;\">\n",
       "      <th></th>\n",
       "      <th>beta</th>\n",
       "    </tr>\n",
       "    <tr>\n",
       "      <th>i</th>\n",
       "      <th></th>\n",
       "    </tr>\n",
       "  </thead>\n",
       "  <tbody>\n",
       "    <tr>\n",
       "      <th>Tomato-based condiments</th>\n",
       "      <td>1.342278</td>\n",
       "    </tr>\n",
       "    <tr>\n",
       "      <th>Sausages</th>\n",
       "      <td>1.174279</td>\n",
       "    </tr>\n",
       "    <tr>\n",
       "      <th>Yeast breads</th>\n",
       "      <td>1.104172</td>\n",
       "    </tr>\n",
       "    <tr>\n",
       "      <th>Jams, syrups, toppings</th>\n",
       "      <td>1.043869</td>\n",
       "    </tr>\n",
       "    <tr>\n",
       "      <th>Milk, reduced fat</th>\n",
       "      <td>1.018949</td>\n",
       "    </tr>\n",
       "    <tr>\n",
       "      <th>Cheese</th>\n",
       "      <td>1.000889</td>\n",
       "    </tr>\n",
       "    <tr>\n",
       "      <th>Pork</th>\n",
       "      <td>0.920667</td>\n",
       "    </tr>\n",
       "    <tr>\n",
       "      <th>Beef, excludes ground</th>\n",
       "      <td>0.889091</td>\n",
       "    </tr>\n",
       "    <tr>\n",
       "      <th>Beans, peas, legumes</th>\n",
       "      <td>0.886922</td>\n",
       "    </tr>\n",
       "    <tr>\n",
       "      <th>White potatoes, baked or boiled</th>\n",
       "      <td>0.866962</td>\n",
       "    </tr>\n",
       "  </tbody>\n",
       "</table>\n",
       "</div>"
      ],
      "text/plain": [
       "                                     beta\n",
       "i                                        \n",
       "Tomato-based condiments          1.342278\n",
       "Sausages                         1.174279\n",
       "Yeast breads                     1.104172\n",
       "Jams, syrups, toppings           1.043869\n",
       "Milk, reduced fat                1.018949\n",
       "Cheese                           1.000889\n",
       "Pork                             0.920667\n",
       "Beef, excludes ground            0.889091\n",
       "Beans, peas, legumes             0.886922\n",
       "White potatoes, baked or boiled  0.866962"
      ]
     },
     "execution_count": 1209,
     "metadata": {},
     "output_type": "execute_result"
    }
   ],
   "source": [
    "#All Regions\n",
    "result.get_beta().to_dataframe().sort_values(by=[\"beta\"], ascending=False).head(10)"
   ]
  },
  {
   "cell_type": "code",
   "execution_count": 1210,
   "metadata": {},
   "outputs": [
    {
     "data": {
      "text/html": [
       "<div>\n",
       "<style scoped>\n",
       "    .dataframe tbody tr th:only-of-type {\n",
       "        vertical-align: middle;\n",
       "    }\n",
       "\n",
       "    .dataframe tbody tr th {\n",
       "        vertical-align: top;\n",
       "    }\n",
       "\n",
       "    .dataframe thead th {\n",
       "        text-align: right;\n",
       "    }\n",
       "</style>\n",
       "<table border=\"1\" class=\"dataframe\">\n",
       "  <thead>\n",
       "    <tr style=\"text-align: right;\">\n",
       "      <th></th>\n",
       "      <th>beta</th>\n",
       "    </tr>\n",
       "    <tr>\n",
       "      <th>i</th>\n",
       "      <th></th>\n",
       "    </tr>\n",
       "  </thead>\n",
       "  <tbody>\n",
       "    <tr>\n",
       "      <th>Sausages</th>\n",
       "      <td>1.428693</td>\n",
       "    </tr>\n",
       "    <tr>\n",
       "      <th>Corn</th>\n",
       "      <td>1.358592</td>\n",
       "    </tr>\n",
       "    <tr>\n",
       "      <th>Beans, peas, legumes</th>\n",
       "      <td>1.250421</td>\n",
       "    </tr>\n",
       "    <tr>\n",
       "      <th>Yeast breads</th>\n",
       "      <td>1.072304</td>\n",
       "    </tr>\n",
       "    <tr>\n",
       "      <th>White potatoes, baked or boiled</th>\n",
       "      <td>1.032191</td>\n",
       "    </tr>\n",
       "    <tr>\n",
       "      <th>Cookies and brownies</th>\n",
       "      <td>0.911600</td>\n",
       "    </tr>\n",
       "    <tr>\n",
       "      <th>Milk, reduced fat</th>\n",
       "      <td>0.900944</td>\n",
       "    </tr>\n",
       "    <tr>\n",
       "      <th>Cakes and pies</th>\n",
       "      <td>0.895160</td>\n",
       "    </tr>\n",
       "    <tr>\n",
       "      <th>Eggs and omelets</th>\n",
       "      <td>0.895140</td>\n",
       "    </tr>\n",
       "    <tr>\n",
       "      <th>Beef, excludes ground</th>\n",
       "      <td>0.879912</td>\n",
       "    </tr>\n",
       "  </tbody>\n",
       "</table>\n",
       "</div>"
      ],
      "text/plain": [
       "                                     beta\n",
       "i                                        \n",
       "Sausages                         1.428693\n",
       "Corn                             1.358592\n",
       "Beans, peas, legumes             1.250421\n",
       "Yeast breads                     1.072304\n",
       "White potatoes, baked or boiled  1.032191\n",
       "Cookies and brownies             0.911600\n",
       "Milk, reduced fat                0.900944\n",
       "Cakes and pies                   0.895160\n",
       "Eggs and omelets                 0.895140\n",
       "Beef, excludes ground            0.879912"
      ]
     },
     "execution_count": 1210,
     "metadata": {},
     "output_type": "execute_result"
    }
   ],
   "source": [
    "#South\n",
    "south.get_beta().to_dataframe().sort_values(by=[\"beta\"], ascending=False).head(10)"
   ]
  },
  {
   "cell_type": "code",
   "execution_count": 1211,
   "metadata": {},
   "outputs": [
    {
     "data": {
      "text/html": [
       "<div>\n",
       "<style scoped>\n",
       "    .dataframe tbody tr th:only-of-type {\n",
       "        vertical-align: middle;\n",
       "    }\n",
       "\n",
       "    .dataframe tbody tr th {\n",
       "        vertical-align: top;\n",
       "    }\n",
       "\n",
       "    .dataframe thead th {\n",
       "        text-align: right;\n",
       "    }\n",
       "</style>\n",
       "<table border=\"1\" class=\"dataframe\">\n",
       "  <thead>\n",
       "    <tr style=\"text-align: right;\">\n",
       "      <th></th>\n",
       "      <th>beta</th>\n",
       "    </tr>\n",
       "    <tr>\n",
       "      <th>i</th>\n",
       "      <th></th>\n",
       "    </tr>\n",
       "  </thead>\n",
       "  <tbody>\n",
       "    <tr>\n",
       "      <th>Lettuce and lettuce salads</th>\n",
       "      <td>1.607840</td>\n",
       "    </tr>\n",
       "    <tr>\n",
       "      <th>Chicken, whole pieces</th>\n",
       "      <td>1.195538</td>\n",
       "    </tr>\n",
       "    <tr>\n",
       "      <th>Beef, excludes ground</th>\n",
       "      <td>1.180215</td>\n",
       "    </tr>\n",
       "    <tr>\n",
       "      <th>Rolls and buns</th>\n",
       "      <td>1.143269</td>\n",
       "    </tr>\n",
       "    <tr>\n",
       "      <th>Yeast breads</th>\n",
       "      <td>1.119463</td>\n",
       "    </tr>\n",
       "    <tr>\n",
       "      <th>Cakes and pies</th>\n",
       "      <td>1.094314</td>\n",
       "    </tr>\n",
       "    <tr>\n",
       "      <th>Tea</th>\n",
       "      <td>1.090996</td>\n",
       "    </tr>\n",
       "    <tr>\n",
       "      <th>French fries and other fried potatoes</th>\n",
       "      <td>1.000226</td>\n",
       "    </tr>\n",
       "    <tr>\n",
       "      <th>Other vegetables and combinations</th>\n",
       "      <td>0.966408</td>\n",
       "    </tr>\n",
       "    <tr>\n",
       "      <th>Eggs and omelets</th>\n",
       "      <td>0.906662</td>\n",
       "    </tr>\n",
       "  </tbody>\n",
       "</table>\n",
       "</div>"
      ],
      "text/plain": [
       "                                           beta\n",
       "i                                              \n",
       "Lettuce and lettuce salads             1.607840\n",
       "Chicken, whole pieces                  1.195538\n",
       "Beef, excludes ground                  1.180215\n",
       "Rolls and buns                         1.143269\n",
       "Yeast breads                           1.119463\n",
       "Cakes and pies                         1.094314\n",
       "Tea                                    1.090996\n",
       "French fries and other fried potatoes  1.000226\n",
       "Other vegetables and combinations      0.966408\n",
       "Eggs and omelets                       0.906662"
      ]
     },
     "execution_count": 1211,
     "metadata": {},
     "output_type": "execute_result"
    }
   ],
   "source": [
    "#West\n",
    "west.get_beta().to_dataframe().sort_values(by=[\"beta\"], ascending=False).head(10)"
   ]
  },
  {
   "cell_type": "markdown",
   "metadata": {},
   "source": [
    "## Betas for Unhealthy Food Options"
   ]
  },
  {
   "cell_type": "markdown",
   "metadata": {},
   "source": [
    "We wanted to see the beta values for the unhealthy food options in each region to see how the elastisity varied."
   ]
  },
  {
   "cell_type": "code",
   "execution_count": 1212,
   "metadata": {},
   "outputs": [
    {
     "data": {
      "text/html": [
       "<div>\n",
       "<style scoped>\n",
       "    .dataframe tbody tr th:only-of-type {\n",
       "        vertical-align: middle;\n",
       "    }\n",
       "\n",
       "    .dataframe tbody tr th {\n",
       "        vertical-align: top;\n",
       "    }\n",
       "\n",
       "    .dataframe thead th {\n",
       "        text-align: right;\n",
       "    }\n",
       "</style>\n",
       "<table border=\"1\" class=\"dataframe\">\n",
       "  <thead>\n",
       "    <tr style=\"text-align: right;\">\n",
       "      <th></th>\n",
       "      <th>beta</th>\n",
       "    </tr>\n",
       "    <tr>\n",
       "      <th>i</th>\n",
       "      <th></th>\n",
       "    </tr>\n",
       "  </thead>\n",
       "  <tbody>\n",
       "    <tr>\n",
       "      <th>Cookies and brownies</th>\n",
       "      <td>0.710055</td>\n",
       "    </tr>\n",
       "    <tr>\n",
       "      <th>Cakes and pies</th>\n",
       "      <td>0.647917</td>\n",
       "    </tr>\n",
       "    <tr>\n",
       "      <th>Candy not containing chocolate</th>\n",
       "      <td>0.528220</td>\n",
       "    </tr>\n",
       "    <tr>\n",
       "      <th>Tortilla, corn, and other chips</th>\n",
       "      <td>0.470422</td>\n",
       "    </tr>\n",
       "    <tr>\n",
       "      <th>French fries and other fried potatoes</th>\n",
       "      <td>0.468275</td>\n",
       "    </tr>\n",
       "    <tr>\n",
       "      <th>Potato chips</th>\n",
       "      <td>0.425992</td>\n",
       "    </tr>\n",
       "    <tr>\n",
       "      <th>Ice cream and frozen dairy desserts</th>\n",
       "      <td>0.403412</td>\n",
       "    </tr>\n",
       "    <tr>\n",
       "      <th>Pretzels / snack mix</th>\n",
       "      <td>0.378012</td>\n",
       "    </tr>\n",
       "    <tr>\n",
       "      <th>Doughnuts, sweet rolls, pastries</th>\n",
       "      <td>0.316152</td>\n",
       "    </tr>\n",
       "    <tr>\n",
       "      <th>Candy containing chocolate</th>\n",
       "      <td>0.283763</td>\n",
       "    </tr>\n",
       "  </tbody>\n",
       "</table>\n",
       "</div>"
      ],
      "text/plain": [
       "                                           beta\n",
       "i                                              \n",
       "Cookies and brownies                   0.710055\n",
       "Cakes and pies                         0.647917\n",
       "Candy not containing chocolate         0.528220\n",
       "Tortilla, corn, and other chips        0.470422\n",
       "French fries and other fried potatoes  0.468275\n",
       "Potato chips                           0.425992\n",
       "Ice cream and frozen dairy desserts    0.403412\n",
       "Pretzels / snack mix                   0.378012\n",
       "Doughnuts, sweet rolls, pastries       0.316152\n",
       "Candy containing chocolate             0.283763"
      ]
     },
     "execution_count": 1212,
     "metadata": {},
     "output_type": "execute_result"
    }
   ],
   "source": [
    "#All Regions\n",
    "unhealthy_betas = result.get_beta().to_dataframe().sort_values(by=[\"beta\"], ascending=False).reset_index()\n",
    "unhealthy_betas = unhealthy_betas[unhealthy_betas['i'].isin(unhealthy_snacks)].set_index('i')\n",
    "unhealthy_betas.head(10)"
   ]
  },
  {
   "cell_type": "code",
   "execution_count": 1213,
   "metadata": {},
   "outputs": [
    {
     "data": {
      "text/html": [
       "<div>\n",
       "<style scoped>\n",
       "    .dataframe tbody tr th:only-of-type {\n",
       "        vertical-align: middle;\n",
       "    }\n",
       "\n",
       "    .dataframe tbody tr th {\n",
       "        vertical-align: top;\n",
       "    }\n",
       "\n",
       "    .dataframe thead th {\n",
       "        text-align: right;\n",
       "    }\n",
       "</style>\n",
       "<table border=\"1\" class=\"dataframe\">\n",
       "  <thead>\n",
       "    <tr style=\"text-align: right;\">\n",
       "      <th></th>\n",
       "      <th>beta</th>\n",
       "    </tr>\n",
       "    <tr>\n",
       "      <th>i</th>\n",
       "      <th></th>\n",
       "    </tr>\n",
       "  </thead>\n",
       "  <tbody>\n",
       "    <tr>\n",
       "      <th>Cookies and brownies</th>\n",
       "      <td>0.911600</td>\n",
       "    </tr>\n",
       "    <tr>\n",
       "      <th>Cakes and pies</th>\n",
       "      <td>0.895160</td>\n",
       "    </tr>\n",
       "    <tr>\n",
       "      <th>French fries and other fried potatoes</th>\n",
       "      <td>0.653918</td>\n",
       "    </tr>\n",
       "    <tr>\n",
       "      <th>Tortilla, corn, and other chips</th>\n",
       "      <td>0.582373</td>\n",
       "    </tr>\n",
       "    <tr>\n",
       "      <th>Doughnuts, sweet rolls, pastries</th>\n",
       "      <td>0.555570</td>\n",
       "    </tr>\n",
       "    <tr>\n",
       "      <th>Pretzels / snack mix</th>\n",
       "      <td>0.408442</td>\n",
       "    </tr>\n",
       "    <tr>\n",
       "      <th>Potato chips</th>\n",
       "      <td>0.291644</td>\n",
       "    </tr>\n",
       "  </tbody>\n",
       "</table>\n",
       "</div>"
      ],
      "text/plain": [
       "                                           beta\n",
       "i                                              \n",
       "Cookies and brownies                   0.911600\n",
       "Cakes and pies                         0.895160\n",
       "French fries and other fried potatoes  0.653918\n",
       "Tortilla, corn, and other chips        0.582373\n",
       "Doughnuts, sweet rolls, pastries       0.555570\n",
       "Pretzels / snack mix                   0.408442\n",
       "Potato chips                           0.291644"
      ]
     },
     "execution_count": 1213,
     "metadata": {},
     "output_type": "execute_result"
    }
   ],
   "source": [
    "#South\n",
    "unhealthy_betas = south.get_beta().to_dataframe().sort_values(by=[\"beta\"], ascending=False).reset_index()\n",
    "unhealthy_betas = unhealthy_betas[unhealthy_betas['i'].isin(unhealthy_snacks)].set_index('i')\n",
    "unhealthy_betas.head(10)"
   ]
  },
  {
   "cell_type": "code",
   "execution_count": 1214,
   "metadata": {},
   "outputs": [
    {
     "data": {
      "text/html": [
       "<div>\n",
       "<style scoped>\n",
       "    .dataframe tbody tr th:only-of-type {\n",
       "        vertical-align: middle;\n",
       "    }\n",
       "\n",
       "    .dataframe tbody tr th {\n",
       "        vertical-align: top;\n",
       "    }\n",
       "\n",
       "    .dataframe thead th {\n",
       "        text-align: right;\n",
       "    }\n",
       "</style>\n",
       "<table border=\"1\" class=\"dataframe\">\n",
       "  <thead>\n",
       "    <tr style=\"text-align: right;\">\n",
       "      <th></th>\n",
       "      <th>beta</th>\n",
       "    </tr>\n",
       "    <tr>\n",
       "      <th>i</th>\n",
       "      <th></th>\n",
       "    </tr>\n",
       "  </thead>\n",
       "  <tbody>\n",
       "    <tr>\n",
       "      <th>Cakes and pies</th>\n",
       "      <td>1.094314</td>\n",
       "    </tr>\n",
       "    <tr>\n",
       "      <th>French fries and other fried potatoes</th>\n",
       "      <td>1.000226</td>\n",
       "    </tr>\n",
       "    <tr>\n",
       "      <th>Cookies and brownies</th>\n",
       "      <td>0.695474</td>\n",
       "    </tr>\n",
       "    <tr>\n",
       "      <th>Doughnuts, sweet rolls, pastries</th>\n",
       "      <td>0.356122</td>\n",
       "    </tr>\n",
       "  </tbody>\n",
       "</table>\n",
       "</div>"
      ],
      "text/plain": [
       "                                           beta\n",
       "i                                              \n",
       "Cakes and pies                         1.094314\n",
       "French fries and other fried potatoes  1.000226\n",
       "Cookies and brownies                   0.695474\n",
       "Doughnuts, sweet rolls, pastries       0.356122"
      ]
     },
     "execution_count": 1214,
     "metadata": {},
     "output_type": "execute_result"
    }
   ],
   "source": [
    "#West\n",
    "unhealthy_betas = west.get_beta().to_dataframe().sort_values(by=[\"beta\"], ascending=False).reset_index()\n",
    "unhealthy_betas = unhealthy_betas[unhealthy_betas['i'].isin(unhealthy_snacks)].set_index('i')\n",
    "unhealthy_betas.head(10)"
   ]
  },
  {
   "cell_type": "markdown",
   "metadata": {},
   "source": [
    "## Betas for Healthy Food Options\n",
    "\n",
    "We wanted to see the beta values for the healthy food options in each region to see how the elastisity varied."
   ]
  },
  {
   "cell_type": "code",
   "execution_count": 1215,
   "metadata": {},
   "outputs": [
    {
     "data": {
      "text/html": [
       "<div>\n",
       "<style scoped>\n",
       "    .dataframe tbody tr th:only-of-type {\n",
       "        vertical-align: middle;\n",
       "    }\n",
       "\n",
       "    .dataframe tbody tr th {\n",
       "        vertical-align: top;\n",
       "    }\n",
       "\n",
       "    .dataframe thead th {\n",
       "        text-align: right;\n",
       "    }\n",
       "</style>\n",
       "<table border=\"1\" class=\"dataframe\">\n",
       "  <thead>\n",
       "    <tr style=\"text-align: right;\">\n",
       "      <th></th>\n",
       "      <th>beta</th>\n",
       "    </tr>\n",
       "    <tr>\n",
       "      <th>i</th>\n",
       "      <th></th>\n",
       "    </tr>\n",
       "  </thead>\n",
       "  <tbody>\n",
       "    <tr>\n",
       "      <th>White potatoes, baked or boiled</th>\n",
       "      <td>0.866962</td>\n",
       "    </tr>\n",
       "    <tr>\n",
       "      <th>Corn</th>\n",
       "      <td>0.786636</td>\n",
       "    </tr>\n",
       "    <tr>\n",
       "      <th>Lettuce and lettuce salads</th>\n",
       "      <td>0.663319</td>\n",
       "    </tr>\n",
       "    <tr>\n",
       "      <th>Other vegetables and combinations</th>\n",
       "      <td>0.658964</td>\n",
       "    </tr>\n",
       "    <tr>\n",
       "      <th>String beans</th>\n",
       "      <td>0.627803</td>\n",
       "    </tr>\n",
       "    <tr>\n",
       "      <th>Carrots</th>\n",
       "      <td>0.579664</td>\n",
       "    </tr>\n",
       "    <tr>\n",
       "      <th>Other fruits and fruit salads</th>\n",
       "      <td>0.535893</td>\n",
       "    </tr>\n",
       "    <tr>\n",
       "      <th>Apples</th>\n",
       "      <td>0.335808</td>\n",
       "    </tr>\n",
       "    <tr>\n",
       "      <th>Vegetable mixed dishes</th>\n",
       "      <td>0.304474</td>\n",
       "    </tr>\n",
       "  </tbody>\n",
       "</table>\n",
       "</div>"
      ],
      "text/plain": [
       "                                       beta\n",
       "i                                          \n",
       "White potatoes, baked or boiled    0.866962\n",
       "Corn                               0.786636\n",
       "Lettuce and lettuce salads         0.663319\n",
       "Other vegetables and combinations  0.658964\n",
       "String beans                       0.627803\n",
       "Carrots                            0.579664\n",
       "Other fruits and fruit salads      0.535893\n",
       "Apples                             0.335808\n",
       "Vegetable mixed dishes             0.304474"
      ]
     },
     "execution_count": 1215,
     "metadata": {},
     "output_type": "execute_result"
    }
   ],
   "source": [
    "#All Regions\n",
    "healthy_betas = result.get_beta().to_dataframe().sort_values(by=[\"beta\"], ascending=False).reset_index()\n",
    "healthy_betas = healthy_betas[healthy_betas['i'].isin(fruits_and_vegetables)].set_index('i')\n",
    "healthy_betas.head(10)"
   ]
  },
  {
   "cell_type": "code",
   "execution_count": 1217,
   "metadata": {},
   "outputs": [
    {
     "data": {
      "text/html": [
       "<div>\n",
       "<style scoped>\n",
       "    .dataframe tbody tr th:only-of-type {\n",
       "        vertical-align: middle;\n",
       "    }\n",
       "\n",
       "    .dataframe tbody tr th {\n",
       "        vertical-align: top;\n",
       "    }\n",
       "\n",
       "    .dataframe thead th {\n",
       "        text-align: right;\n",
       "    }\n",
       "</style>\n",
       "<table border=\"1\" class=\"dataframe\">\n",
       "  <thead>\n",
       "    <tr style=\"text-align: right;\">\n",
       "      <th></th>\n",
       "      <th>beta</th>\n",
       "    </tr>\n",
       "    <tr>\n",
       "      <th>i</th>\n",
       "      <th></th>\n",
       "    </tr>\n",
       "  </thead>\n",
       "  <tbody>\n",
       "    <tr>\n",
       "      <th>Corn</th>\n",
       "      <td>1.358592</td>\n",
       "    </tr>\n",
       "    <tr>\n",
       "      <th>White potatoes, baked or boiled</th>\n",
       "      <td>1.032191</td>\n",
       "    </tr>\n",
       "    <tr>\n",
       "      <th>String beans</th>\n",
       "      <td>0.830499</td>\n",
       "    </tr>\n",
       "    <tr>\n",
       "      <th>Other fruits and fruit salads</th>\n",
       "      <td>0.694348</td>\n",
       "    </tr>\n",
       "    <tr>\n",
       "      <th>Other vegetables and combinations</th>\n",
       "      <td>0.658238</td>\n",
       "    </tr>\n",
       "    <tr>\n",
       "      <th>Apples</th>\n",
       "      <td>0.424039</td>\n",
       "    </tr>\n",
       "    <tr>\n",
       "      <th>Lettuce and lettuce salads</th>\n",
       "      <td>0.295017</td>\n",
       "    </tr>\n",
       "  </tbody>\n",
       "</table>\n",
       "</div>"
      ],
      "text/plain": [
       "                                       beta\n",
       "i                                          \n",
       "Corn                               1.358592\n",
       "White potatoes, baked or boiled    1.032191\n",
       "String beans                       0.830499\n",
       "Other fruits and fruit salads      0.694348\n",
       "Other vegetables and combinations  0.658238\n",
       "Apples                             0.424039\n",
       "Lettuce and lettuce salads         0.295017"
      ]
     },
     "execution_count": 1217,
     "metadata": {},
     "output_type": "execute_result"
    }
   ],
   "source": [
    "#South\n",
    "healthy_betas = south.get_beta().to_dataframe().sort_values(by=[\"beta\"], ascending=False).reset_index()\n",
    "healthy_betas = healthy_betas[healthy_betas['i'].isin(fruits_and_vegetables)].set_index('i')\n",
    "healthy_betas.head(10)"
   ]
  },
  {
   "cell_type": "code",
   "execution_count": 1219,
   "metadata": {},
   "outputs": [
    {
     "data": {
      "text/html": [
       "<div>\n",
       "<style scoped>\n",
       "    .dataframe tbody tr th:only-of-type {\n",
       "        vertical-align: middle;\n",
       "    }\n",
       "\n",
       "    .dataframe tbody tr th {\n",
       "        vertical-align: top;\n",
       "    }\n",
       "\n",
       "    .dataframe thead th {\n",
       "        text-align: right;\n",
       "    }\n",
       "</style>\n",
       "<table border=\"1\" class=\"dataframe\">\n",
       "  <thead>\n",
       "    <tr style=\"text-align: right;\">\n",
       "      <th></th>\n",
       "      <th>beta</th>\n",
       "    </tr>\n",
       "    <tr>\n",
       "      <th>i</th>\n",
       "      <th></th>\n",
       "    </tr>\n",
       "  </thead>\n",
       "  <tbody>\n",
       "    <tr>\n",
       "      <th>Lettuce and lettuce salads</th>\n",
       "      <td>1.607840</td>\n",
       "    </tr>\n",
       "    <tr>\n",
       "      <th>Other vegetables and combinations</th>\n",
       "      <td>0.966408</td>\n",
       "    </tr>\n",
       "    <tr>\n",
       "      <th>Other fruits and fruit salads</th>\n",
       "      <td>0.712566</td>\n",
       "    </tr>\n",
       "    <tr>\n",
       "      <th>Apples</th>\n",
       "      <td>0.085743</td>\n",
       "    </tr>\n",
       "  </tbody>\n",
       "</table>\n",
       "</div>"
      ],
      "text/plain": [
       "                                       beta\n",
       "i                                          \n",
       "Lettuce and lettuce salads         1.607840\n",
       "Other vegetables and combinations  0.966408\n",
       "Other fruits and fruit salads      0.712566\n",
       "Apples                             0.085743"
      ]
     },
     "execution_count": 1219,
     "metadata": {},
     "output_type": "execute_result"
    }
   ],
   "source": [
    "#West\n",
    "healthy_betas = west.get_beta().to_dataframe().sort_values(by=[\"beta\"], ascending=False).reset_index()\n",
    "healthy_betas = healthy_betas[healthy_betas['i'].isin(fruits_and_vegetables)].set_index('i')\n",
    "healthy_betas.head(10)"
   ]
  },
  {
   "cell_type": "code",
   "execution_count": null,
   "metadata": {},
   "outputs": [],
   "source": []
  }
 ],
 "metadata": {
  "kernelspec": {
   "display_name": "Python 3",
   "language": "python",
   "name": "python3"
  },
  "language_info": {
   "codemirror_mode": {
    "name": "ipython",
    "version": 3
   },
   "file_extension": ".py",
   "mimetype": "text/x-python",
   "name": "python",
   "nbconvert_exporter": "python",
   "pygments_lexer": "ipython3",
   "version": "3.6.5"
  }
 },
 "nbformat": 4,
 "nbformat_minor": 2
}
